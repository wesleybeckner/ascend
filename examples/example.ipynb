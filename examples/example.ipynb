{
 "cells": [
  {
   "cell_type": "code",
   "execution_count": 124,
   "id": "a8449431-3f48-4222-a8f2-e4f5bd3fe457",
   "metadata": {},
   "outputs": [],
   "source": [
    "from sklearn import linear_model\n",
    "import pandas as pd\n",
    "import numpy as np\n",
    "from datetime import timedelta\n",
    "import dash_core_components as dcc\n",
    "import dash_daq as daq\n",
    "import dash_html_components as html\n",
    "from dash.dependencies import Input, Output\n",
    "import plotly.graph_objects as go\n",
    "import dash_bootstrap_components as dbc\n",
    "import dash_table\n",
    "import dash\n",
    "import plotly.express as px\n",
    "from flask import Flask\n",
    "\n",
    "def predict_next_fail(n, T, beta):\n",
    "    lamb = n / (T**beta)\n",
    "    lamb_hat = lamb * beta * T ** (beta-1)\n",
    "    TTF = 1 / lamb_hat\n",
    "    return TTF\n",
    "\n",
    "def wrap_calc_beta(site):\n",
    "    beta = []\n",
    "    T0 = site.loc[0, 'Date'] \n",
    "    cumTTF = []\n",
    "    failN = []\n",
    "    deltT0 = site.loc[0, 'Cum Days']\n",
    "    ind = 0\n",
    "    for n, T in enumerate(site['Date']):\n",
    "        cumTTF.append((T-T0).days+deltT0)\n",
    "        failN.append(n+1)\n",
    "        if ind == 0:\n",
    "            beta.append(np.nan)\n",
    "        else:\n",
    "            beta.append(calc_beta(n, (T-T0).days+deltT0, cumTTF))\n",
    "        ind += 1\n",
    "    result = site[['Date', 'Equipment/Process', \n",
    "                   'Failure Mode', 'Contributing Factor', 'Klbs']].join(\n",
    "                    pd.DataFrame.from_dict(({'Beta': np.round(beta,3), \n",
    "                    'Cumulative Days': cumTTF, 'Failure Number': failN})))\n",
    "    result.Klbs = result.Klbs.round(2)\n",
    "    result = result.fillna(value='None')\n",
    "    return result\n",
    "\n",
    "def make_crow_data(site_val = 'CHB', \n",
    "                 fail_type='All'):\n",
    "    site = sites.loc[sites['Plant'].str.contains(site_val)]\n",
    "    site = site.reset_index(drop=True)\n",
    "    if fail_type == 'All':\n",
    "        pass\n",
    "    else:\n",
    "        site = site.loc[site['Equipment/Process'] == fail_type].reset_index()\n",
    "    result = wrap_calc_beta(site)\n",
    "    return result\n",
    "\n",
    "def make_scatter(result, y, log=False):\n",
    "    fig = px.scatter(result, x='Cumulative Days', y=y, color='Equipment/Process', size='Klbs',\n",
    "                    log_x=log, log_y=log)\n",
    "    fig.update_layout(\n",
    "                    height= 400)\n",
    "    return fig\n",
    "\n",
    "def calc_beta(n, T, cumTTF):\n",
    "    return n / (n * np.log(T) - np.sum(np.log(cumTTF[:n])))\n",
    "\n",
    "def find_peaks(result):\n",
    "    # find peaks, 4-padded\n",
    "    betas = result['Beta'].values[1:]\n",
    "    peaks = np.zeros(len(betas)+1)\n",
    "    peaks[5:-4][((betas[4:-4] - betas[3:-5] > 0) & \n",
    "     (betas[4:-4] - betas[2:-6] > 0) &\n",
    "     (betas[4:-4] - betas[1:-7] > 0) &\n",
    "     (betas[4:-4] - betas[0:-8] > 0) &\n",
    "     (betas[4:-4] - betas[5:-3] > 0) & \n",
    "     (betas[4:-4] - betas[6:-2] > 0) &\n",
    "     (betas[4:-4] - betas[7:-1] > 0) &\n",
    "     (betas[4:-4] - betas[8:] > 0)) |\n",
    "    ((betas[4:-4] - betas[3:-5] < 0) & \n",
    "     (betas[4:-4] - betas[2:-6] < 0) &\n",
    "     (betas[4:-4] - betas[1:-7] < 0) &\n",
    "     (betas[4:-4] - betas[0:-8] < 0) &\n",
    "     (betas[4:-4] - betas[5:-3] < 0) & \n",
    "     (betas[4:-4] - betas[6:-2] < 0) &\n",
    "     (betas[4:-4] - betas[7:-1] < 0) &\n",
    "     (betas[4:-4] - betas[8:] < 0)) ] = 1\n",
    "    peaks = np.argwhere(peaks).flatten()\n",
    "    return peaks"
   ]
  },
  {
   "cell_type": "code",
   "execution_count": 125,
   "id": "49cecf81-85f8-4b77-945a-16138d83b429",
   "metadata": {},
   "outputs": [],
   "source": [
    "# Load Data, Init Variables\n",
    "sites = pd.read_csv(\"../crowamsaa_data.csv\", parse_dates=['Date'])\n",
    "external_stylesheets = ['https://codepen.io/chriddyp/pen/bWLwgP.css']\n",
    "site_vals = ['CHB', 'DEC', 'PEN']\n",
    "fail_types = ['Equipment', 'Process', 'Equipment (Design)', 'All']\n",
    "result = make_crow_data('CHB', 'All')\n",
    "TTF = predict_next_fail(*result.loc[result.shape[0]-1, \n",
    "                        ['Failure Number', 'Cumulative Days', 'Beta']].values)\n",
    "next_fail = result.iloc[-1,0] + timedelta(days=TTF)\n",
    "result.Date = pd.DatetimeIndex(result.Date).strftime(\"%Y-%m-%d\")\n",
    "peaks = find_peaks(result)\n",
    "result['Peak'] = False\n",
    "result.iloc[peaks, -1] = True"
   ]
  },
  {
   "cell_type": "code",
   "execution_count": 76,
   "id": "2a334dd9-6c90-45a3-bdb1-f47e8011432f",
   "metadata": {},
   "outputs": [
    {
     "data": {
      "application/vnd.plotly.v1+json": {
       "config": {
        "plotlyServerURL": "https://plot.ly"
       },
       "data": [
        {
         "hovertemplate": "Peak=False<br>Cumulative Days=%{x}<br>Beta=%{y}<br>Klbs=%{marker.size}<extra></extra>",
         "legendgroup": "False",
         "marker": {
          "color": "#636efa",
          "size": [
           10956.16,
           50958.9,
           14608.22,
           15967.12,
           11975.34,
           1698.63,
           16731.51,
           20876.71,
           15032.88,
           3312.33,
           8219.18,
           13972.6,
           1972.6,
           7134.25,
           9767.12,
           18600,
           7643.84,
           4756.16,
           7397.26,
           50534.25,
           15202.74,
           14608.22,
           12394.52,
           14693.15,
           11095.89,
           12986.3,
           55460.27,
           14947.95,
           44383.56,
           20712.33,
           53506.85,
           1189.04,
           29980.82,
           2369.59,
           27178.08,
           68030.14,
           7219.18,
           21063.01,
           12060.27,
           11380.82,
           4602.74,
           4671.23,
           3698.63,
           7813.7,
           0,
           0
          ],
          "sizemode": "area",
          "sizeref": 170.07535,
          "symbol": "circle"
         },
         "mode": "markers",
         "name": "False",
         "orientation": "h",
         "showlegend": true,
         "type": "scatter",
         "x": [
          74,
          135,
          196,
          288,
          380,
          395,
          500,
          531,
          592,
          804,
          821,
          835,
          850,
          865,
          912,
          926,
          943,
          957,
          974,
          1110,
          1322,
          1444,
          1506,
          1535,
          1566,
          1596,
          1657,
          1688,
          1705,
          1719,
          1749,
          1900,
          1961,
          1992,
          2084,
          2114,
          2540,
          2752,
          2769,
          2783,
          2814,
          3027,
          3057,
          3302,
          3333,
          3346
         ],
         "xaxis": "x",
         "y": [
          "None",
          1.663,
          1.485,
          1.199,
          1.108,
          1.314,
          1.15,
          1.241,
          1.229,
          1.071,
          1.149,
          1.228,
          1.299,
          1.366,
          1.358,
          1.418,
          1.466,
          1.517,
          1.558,
          1.407,
          1.172,
          1.153,
          1.143,
          1.162,
          1.179,
          1.194,
          1.182,
          1.196,
          1.221,
          1.247,
          1.258,
          1.202,
          1.19,
          1.2,
          1.168,
          1.178,
          0.989,
          0.938,
          0.955,
          0.973,
          0.984,
          0.938,
          0.95,
          0.903,
          0.914,
          0.93
         ],
         "yaxis": "y"
        },
        {
         "hovertemplate": "Peak=True<br>Cumulative Days=%{x}<br>Beta=%{y}<br>Klbs=%{marker.size}<extra></extra>",
         "legendgroup": "True",
         "marker": {
          "color": "#EF553B",
          "size": [
           5945.21,
           8301.37,
           13561.64,
           14712.33
          ],
          "sizemode": "area",
          "sizeref": 170.07535,
          "symbol": "circle"
         },
         "mode": "markers",
         "name": "True",
         "orientation": "h",
         "showlegend": true,
         "type": "scatter",
         "x": [
          745,
          988,
          1414,
          1780
         ],
         "xaxis": "x",
         "y": [
          1.049,
          1.602,
          1.132,
          1.267
         ],
         "yaxis": "y"
        }
       ],
       "layout": {
        "autosize": true,
        "legend": {
         "itemsizing": "constant",
         "title": {
          "text": "Peak"
         },
         "tracegroupgap": 0
        },
        "margin": {
         "t": 60
        },
        "template": {
         "data": {
          "bar": [
           {
            "error_x": {
             "color": "#2a3f5f"
            },
            "error_y": {
             "color": "#2a3f5f"
            },
            "marker": {
             "line": {
              "color": "#E5ECF6",
              "width": 0.5
             },
             "pattern": {
              "fillmode": "overlay",
              "size": 10,
              "solidity": 0.2
             }
            },
            "type": "bar"
           }
          ],
          "barpolar": [
           {
            "marker": {
             "line": {
              "color": "#E5ECF6",
              "width": 0.5
             },
             "pattern": {
              "fillmode": "overlay",
              "size": 10,
              "solidity": 0.2
             }
            },
            "type": "barpolar"
           }
          ],
          "carpet": [
           {
            "aaxis": {
             "endlinecolor": "#2a3f5f",
             "gridcolor": "white",
             "linecolor": "white",
             "minorgridcolor": "white",
             "startlinecolor": "#2a3f5f"
            },
            "baxis": {
             "endlinecolor": "#2a3f5f",
             "gridcolor": "white",
             "linecolor": "white",
             "minorgridcolor": "white",
             "startlinecolor": "#2a3f5f"
            },
            "type": "carpet"
           }
          ],
          "choropleth": [
           {
            "colorbar": {
             "outlinewidth": 0,
             "ticks": ""
            },
            "type": "choropleth"
           }
          ],
          "contour": [
           {
            "colorbar": {
             "outlinewidth": 0,
             "ticks": ""
            },
            "colorscale": [
             [
              0,
              "#0d0887"
             ],
             [
              0.1111111111111111,
              "#46039f"
             ],
             [
              0.2222222222222222,
              "#7201a8"
             ],
             [
              0.3333333333333333,
              "#9c179e"
             ],
             [
              0.4444444444444444,
              "#bd3786"
             ],
             [
              0.5555555555555556,
              "#d8576b"
             ],
             [
              0.6666666666666666,
              "#ed7953"
             ],
             [
              0.7777777777777778,
              "#fb9f3a"
             ],
             [
              0.8888888888888888,
              "#fdca26"
             ],
             [
              1,
              "#f0f921"
             ]
            ],
            "type": "contour"
           }
          ],
          "contourcarpet": [
           {
            "colorbar": {
             "outlinewidth": 0,
             "ticks": ""
            },
            "type": "contourcarpet"
           }
          ],
          "heatmap": [
           {
            "colorbar": {
             "outlinewidth": 0,
             "ticks": ""
            },
            "colorscale": [
             [
              0,
              "#0d0887"
             ],
             [
              0.1111111111111111,
              "#46039f"
             ],
             [
              0.2222222222222222,
              "#7201a8"
             ],
             [
              0.3333333333333333,
              "#9c179e"
             ],
             [
              0.4444444444444444,
              "#bd3786"
             ],
             [
              0.5555555555555556,
              "#d8576b"
             ],
             [
              0.6666666666666666,
              "#ed7953"
             ],
             [
              0.7777777777777778,
              "#fb9f3a"
             ],
             [
              0.8888888888888888,
              "#fdca26"
             ],
             [
              1,
              "#f0f921"
             ]
            ],
            "type": "heatmap"
           }
          ],
          "heatmapgl": [
           {
            "colorbar": {
             "outlinewidth": 0,
             "ticks": ""
            },
            "colorscale": [
             [
              0,
              "#0d0887"
             ],
             [
              0.1111111111111111,
              "#46039f"
             ],
             [
              0.2222222222222222,
              "#7201a8"
             ],
             [
              0.3333333333333333,
              "#9c179e"
             ],
             [
              0.4444444444444444,
              "#bd3786"
             ],
             [
              0.5555555555555556,
              "#d8576b"
             ],
             [
              0.6666666666666666,
              "#ed7953"
             ],
             [
              0.7777777777777778,
              "#fb9f3a"
             ],
             [
              0.8888888888888888,
              "#fdca26"
             ],
             [
              1,
              "#f0f921"
             ]
            ],
            "type": "heatmapgl"
           }
          ],
          "histogram": [
           {
            "marker": {
             "pattern": {
              "fillmode": "overlay",
              "size": 10,
              "solidity": 0.2
             }
            },
            "type": "histogram"
           }
          ],
          "histogram2d": [
           {
            "colorbar": {
             "outlinewidth": 0,
             "ticks": ""
            },
            "colorscale": [
             [
              0,
              "#0d0887"
             ],
             [
              0.1111111111111111,
              "#46039f"
             ],
             [
              0.2222222222222222,
              "#7201a8"
             ],
             [
              0.3333333333333333,
              "#9c179e"
             ],
             [
              0.4444444444444444,
              "#bd3786"
             ],
             [
              0.5555555555555556,
              "#d8576b"
             ],
             [
              0.6666666666666666,
              "#ed7953"
             ],
             [
              0.7777777777777778,
              "#fb9f3a"
             ],
             [
              0.8888888888888888,
              "#fdca26"
             ],
             [
              1,
              "#f0f921"
             ]
            ],
            "type": "histogram2d"
           }
          ],
          "histogram2dcontour": [
           {
            "colorbar": {
             "outlinewidth": 0,
             "ticks": ""
            },
            "colorscale": [
             [
              0,
              "#0d0887"
             ],
             [
              0.1111111111111111,
              "#46039f"
             ],
             [
              0.2222222222222222,
              "#7201a8"
             ],
             [
              0.3333333333333333,
              "#9c179e"
             ],
             [
              0.4444444444444444,
              "#bd3786"
             ],
             [
              0.5555555555555556,
              "#d8576b"
             ],
             [
              0.6666666666666666,
              "#ed7953"
             ],
             [
              0.7777777777777778,
              "#fb9f3a"
             ],
             [
              0.8888888888888888,
              "#fdca26"
             ],
             [
              1,
              "#f0f921"
             ]
            ],
            "type": "histogram2dcontour"
           }
          ],
          "mesh3d": [
           {
            "colorbar": {
             "outlinewidth": 0,
             "ticks": ""
            },
            "type": "mesh3d"
           }
          ],
          "parcoords": [
           {
            "line": {
             "colorbar": {
              "outlinewidth": 0,
              "ticks": ""
             }
            },
            "type": "parcoords"
           }
          ],
          "pie": [
           {
            "automargin": true,
            "type": "pie"
           }
          ],
          "scatter": [
           {
            "marker": {
             "colorbar": {
              "outlinewidth": 0,
              "ticks": ""
             }
            },
            "type": "scatter"
           }
          ],
          "scatter3d": [
           {
            "line": {
             "colorbar": {
              "outlinewidth": 0,
              "ticks": ""
             }
            },
            "marker": {
             "colorbar": {
              "outlinewidth": 0,
              "ticks": ""
             }
            },
            "type": "scatter3d"
           }
          ],
          "scattercarpet": [
           {
            "marker": {
             "colorbar": {
              "outlinewidth": 0,
              "ticks": ""
             }
            },
            "type": "scattercarpet"
           }
          ],
          "scattergeo": [
           {
            "marker": {
             "colorbar": {
              "outlinewidth": 0,
              "ticks": ""
             }
            },
            "type": "scattergeo"
           }
          ],
          "scattergl": [
           {
            "marker": {
             "colorbar": {
              "outlinewidth": 0,
              "ticks": ""
             }
            },
            "type": "scattergl"
           }
          ],
          "scattermapbox": [
           {
            "marker": {
             "colorbar": {
              "outlinewidth": 0,
              "ticks": ""
             }
            },
            "type": "scattermapbox"
           }
          ],
          "scatterpolar": [
           {
            "marker": {
             "colorbar": {
              "outlinewidth": 0,
              "ticks": ""
             }
            },
            "type": "scatterpolar"
           }
          ],
          "scatterpolargl": [
           {
            "marker": {
             "colorbar": {
              "outlinewidth": 0,
              "ticks": ""
             }
            },
            "type": "scatterpolargl"
           }
          ],
          "scatterternary": [
           {
            "marker": {
             "colorbar": {
              "outlinewidth": 0,
              "ticks": ""
             }
            },
            "type": "scatterternary"
           }
          ],
          "surface": [
           {
            "colorbar": {
             "outlinewidth": 0,
             "ticks": ""
            },
            "colorscale": [
             [
              0,
              "#0d0887"
             ],
             [
              0.1111111111111111,
              "#46039f"
             ],
             [
              0.2222222222222222,
              "#7201a8"
             ],
             [
              0.3333333333333333,
              "#9c179e"
             ],
             [
              0.4444444444444444,
              "#bd3786"
             ],
             [
              0.5555555555555556,
              "#d8576b"
             ],
             [
              0.6666666666666666,
              "#ed7953"
             ],
             [
              0.7777777777777778,
              "#fb9f3a"
             ],
             [
              0.8888888888888888,
              "#fdca26"
             ],
             [
              1,
              "#f0f921"
             ]
            ],
            "type": "surface"
           }
          ],
          "table": [
           {
            "cells": {
             "fill": {
              "color": "#EBF0F8"
             },
             "line": {
              "color": "white"
             }
            },
            "header": {
             "fill": {
              "color": "#C8D4E3"
             },
             "line": {
              "color": "white"
             }
            },
            "type": "table"
           }
          ]
         },
         "layout": {
          "annotationdefaults": {
           "arrowcolor": "#2a3f5f",
           "arrowhead": 0,
           "arrowwidth": 1
          },
          "autotypenumbers": "strict",
          "coloraxis": {
           "colorbar": {
            "outlinewidth": 0,
            "ticks": ""
           }
          },
          "colorscale": {
           "diverging": [
            [
             0,
             "#8e0152"
            ],
            [
             0.1,
             "#c51b7d"
            ],
            [
             0.2,
             "#de77ae"
            ],
            [
             0.3,
             "#f1b6da"
            ],
            [
             0.4,
             "#fde0ef"
            ],
            [
             0.5,
             "#f7f7f7"
            ],
            [
             0.6,
             "#e6f5d0"
            ],
            [
             0.7,
             "#b8e186"
            ],
            [
             0.8,
             "#7fbc41"
            ],
            [
             0.9,
             "#4d9221"
            ],
            [
             1,
             "#276419"
            ]
           ],
           "sequential": [
            [
             0,
             "#0d0887"
            ],
            [
             0.1111111111111111,
             "#46039f"
            ],
            [
             0.2222222222222222,
             "#7201a8"
            ],
            [
             0.3333333333333333,
             "#9c179e"
            ],
            [
             0.4444444444444444,
             "#bd3786"
            ],
            [
             0.5555555555555556,
             "#d8576b"
            ],
            [
             0.6666666666666666,
             "#ed7953"
            ],
            [
             0.7777777777777778,
             "#fb9f3a"
            ],
            [
             0.8888888888888888,
             "#fdca26"
            ],
            [
             1,
             "#f0f921"
            ]
           ],
           "sequentialminus": [
            [
             0,
             "#0d0887"
            ],
            [
             0.1111111111111111,
             "#46039f"
            ],
            [
             0.2222222222222222,
             "#7201a8"
            ],
            [
             0.3333333333333333,
             "#9c179e"
            ],
            [
             0.4444444444444444,
             "#bd3786"
            ],
            [
             0.5555555555555556,
             "#d8576b"
            ],
            [
             0.6666666666666666,
             "#ed7953"
            ],
            [
             0.7777777777777778,
             "#fb9f3a"
            ],
            [
             0.8888888888888888,
             "#fdca26"
            ],
            [
             1,
             "#f0f921"
            ]
           ]
          },
          "colorway": [
           "#636efa",
           "#EF553B",
           "#00cc96",
           "#ab63fa",
           "#FFA15A",
           "#19d3f3",
           "#FF6692",
           "#B6E880",
           "#FF97FF",
           "#FECB52"
          ],
          "font": {
           "color": "#2a3f5f"
          },
          "geo": {
           "bgcolor": "white",
           "lakecolor": "white",
           "landcolor": "#E5ECF6",
           "showlakes": true,
           "showland": true,
           "subunitcolor": "white"
          },
          "hoverlabel": {
           "align": "left"
          },
          "hovermode": "closest",
          "mapbox": {
           "style": "light"
          },
          "paper_bgcolor": "white",
          "plot_bgcolor": "#E5ECF6",
          "polar": {
           "angularaxis": {
            "gridcolor": "white",
            "linecolor": "white",
            "ticks": ""
           },
           "bgcolor": "#E5ECF6",
           "radialaxis": {
            "gridcolor": "white",
            "linecolor": "white",
            "ticks": ""
           }
          },
          "scene": {
           "xaxis": {
            "backgroundcolor": "#E5ECF6",
            "gridcolor": "white",
            "gridwidth": 2,
            "linecolor": "white",
            "showbackground": true,
            "ticks": "",
            "zerolinecolor": "white"
           },
           "yaxis": {
            "backgroundcolor": "#E5ECF6",
            "gridcolor": "white",
            "gridwidth": 2,
            "linecolor": "white",
            "showbackground": true,
            "ticks": "",
            "zerolinecolor": "white"
           },
           "zaxis": {
            "backgroundcolor": "#E5ECF6",
            "gridcolor": "white",
            "gridwidth": 2,
            "linecolor": "white",
            "showbackground": true,
            "ticks": "",
            "zerolinecolor": "white"
           }
          },
          "shapedefaults": {
           "line": {
            "color": "#2a3f5f"
           }
          },
          "ternary": {
           "aaxis": {
            "gridcolor": "white",
            "linecolor": "white",
            "ticks": ""
           },
           "baxis": {
            "gridcolor": "white",
            "linecolor": "white",
            "ticks": ""
           },
           "bgcolor": "#E5ECF6",
           "caxis": {
            "gridcolor": "white",
            "linecolor": "white",
            "ticks": ""
           }
          },
          "title": {
           "x": 0.05
          },
          "xaxis": {
           "automargin": true,
           "gridcolor": "white",
           "linecolor": "white",
           "ticks": "",
           "title": {
            "standoff": 15
           },
           "zerolinecolor": "white",
           "zerolinewidth": 2
          },
          "yaxis": {
           "automargin": true,
           "gridcolor": "white",
           "linecolor": "white",
           "ticks": "",
           "title": {
            "standoff": 15
           },
           "zerolinecolor": "white",
           "zerolinewidth": 2
          }
         }
        },
        "xaxis": {
         "anchor": "y",
         "autorange": true,
         "domain": [
          0,
          1
         ],
         "range": [
          -129.71487867430855,
          3539.024254019794
         ],
         "title": {
          "text": "Cumulative Days"
         },
         "type": "linear"
        },
        "yaxis": {
         "anchor": "x",
         "autorange": true,
         "domain": [
          0,
          1
         ],
         "range": [
          0.8380916408105858,
          1.7573455492636425
         ],
         "title": {
          "text": "Beta"
         },
         "type": "linear"
        }
       }
      },
      "image/png": "[encoded data removed]",
      "text/html": [
       "<div>                            <div id=\"0bd5f449-5a91-4e67-8500-59e3c88f3f67\" class=\"plotly-graph-div\" style=\"height:400px; width:100%;\"></div>            <script type=\"text/javascript\">                require([\"plotly\"], function(Plotly) {                    window.PLOTLYENV=window.PLOTLYENV || {};                                    if (document.getElementById(\"0bd5f449-5a91-4e67-8500-59e3c88f3f67\")) {                    Plotly.newPlot(                        \"0bd5f449-5a91-4e67-8500-59e3c88f3f67\",                        [{\"hovertemplate\":\"Peak=False<br>Cumulative Days=%{x}<br>Beta=%{y}<br>Klbs=%{marker.size}<extra></extra>\",\"legendgroup\":\"False\",\"marker\":{\"color\":\"#636efa\",\"size\":[10956.16,50958.9,14608.22,15967.12,11975.34,1698.63,16731.51,20876.71,15032.88,3312.33,8219.18,13972.6,1972.6,7134.25,9767.12,18600.0,7643.84,4756.16,7397.26,50534.25,15202.74,14608.22,12394.52,14693.15,11095.89,12986.3,55460.27,14947.95,44383.56,20712.33,53506.85,1189.04,29980.82,2369.59,27178.08,68030.14,7219.18,21063.01,12060.27,11380.82,4602.74,4671.23,3698.63,7813.7,0.0,0.0],\"sizemode\":\"area\",\"sizeref\":170.07535,\"symbol\":\"circle\"},\"mode\":\"markers\",\"name\":\"False\",\"orientation\":\"h\",\"showlegend\":true,\"x\":[74,135,196,288,380,395,500,531,592,804,821,835,850,865,912,926,943,957,974,1110,1322,1444,1506,1535,1566,1596,1657,1688,1705,1719,1749,1900,1961,1992,2084,2114,2540,2752,2769,2783,2814,3027,3057,3302,3333,3346],\"xaxis\":\"x\",\"y\":[\"None\",1.663,1.485,1.199,1.108,1.314,1.15,1.241,1.229,1.071,1.149,1.228,1.299,1.366,1.358,1.418,1.466,1.517,1.558,1.407,1.172,1.153,1.143,1.162,1.179,1.194,1.182,1.196,1.221,1.247,1.258,1.202,1.19,1.2,1.168,1.178,0.989,0.938,0.955,0.973,0.984,0.938,0.95,0.903,0.914,0.93],\"yaxis\":\"y\",\"type\":\"scatter\"},{\"hovertemplate\":\"Peak=True<br>Cumulative Days=%{x}<br>Beta=%{y}<br>Klbs=%{marker.size}<extra></extra>\",\"legendgroup\":\"True\",\"marker\":{\"color\":\"#EF553B\",\"size\":[5945.21,8301.37,13561.64,14712.33],\"sizemode\":\"area\",\"sizeref\":170.07535,\"symbol\":\"circle\"},\"mode\":\"markers\",\"name\":\"True\",\"orientation\":\"h\",\"showlegend\":true,\"x\":[745,988,1414,1780],\"xaxis\":\"x\",\"y\":[1.049,1.602,1.132,1.267],\"yaxis\":\"y\",\"type\":\"scatter\"}],                        {\"template\":{\"data\":{\"bar\":[{\"error_x\":{\"color\":\"#2a3f5f\"},\"error_y\":{\"color\":\"#2a3f5f\"},\"marker\":{\"line\":{\"color\":\"#E5ECF6\",\"width\":0.5},\"pattern\":{\"fillmode\":\"overlay\",\"size\":10,\"solidity\":0.2}},\"type\":\"bar\"}],\"barpolar\":[{\"marker\":{\"line\":{\"color\":\"#E5ECF6\",\"width\":0.5},\"pattern\":{\"fillmode\":\"overlay\",\"size\":10,\"solidity\":0.2}},\"type\":\"barpolar\"}],\"carpet\":[{\"aaxis\":{\"endlinecolor\":\"#2a3f5f\",\"gridcolor\":\"white\",\"linecolor\":\"white\",\"minorgridcolor\":\"white\",\"startlinecolor\":\"#2a3f5f\"},\"baxis\":{\"endlinecolor\":\"#2a3f5f\",\"gridcolor\":\"white\",\"linecolor\":\"white\",\"minorgridcolor\":\"white\",\"startlinecolor\":\"#2a3f5f\"},\"type\":\"carpet\"}],\"choropleth\":[{\"colorbar\":{\"outlinewidth\":0,\"ticks\":\"\"},\"type\":\"choropleth\"}],\"contour\":[{\"colorbar\":{\"outlinewidth\":0,\"ticks\":\"\"},\"colorscale\":[[0.0,\"#0d0887\"],[0.1111111111111111,\"#46039f\"],[0.2222222222222222,\"#7201a8\"],[0.3333333333333333,\"#9c179e\"],[0.4444444444444444,\"#bd3786\"],[0.5555555555555556,\"#d8576b\"],[0.6666666666666666,\"#ed7953\"],[0.7777777777777778,\"#fb9f3a\"],[0.8888888888888888,\"#fdca26\"],[1.0,\"#f0f921\"]],\"type\":\"contour\"}],\"contourcarpet\":[{\"colorbar\":{\"outlinewidth\":0,\"ticks\":\"\"},\"type\":\"contourcarpet\"}],\"heatmap\":[{\"colorbar\":{\"outlinewidth\":0,\"ticks\":\"\"},\"colorscale\":[[0.0,\"#0d0887\"],[0.1111111111111111,\"#46039f\"],[0.2222222222222222,\"#7201a8\"],[0.3333333333333333,\"#9c179e\"],[0.4444444444444444,\"#bd3786\"],[0.5555555555555556,\"#d8576b\"],[0.6666666666666666,\"#ed7953\"],[0.7777777777777778,\"#fb9f3a\"],[0.8888888888888888,\"#fdca26\"],[1.0,\"#f0f921\"]],\"type\":\"heatmap\"}],\"heatmapgl\":[{\"colorbar\":{\"outlinewidth\":0,\"ticks\":\"\"},\"colorscale\":[[0.0,\"#0d0887\"],[0.1111111111111111,\"#46039f\"],[0.2222222222222222,\"#7201a8\"],[0.3333333333333333,\"#9c179e\"],[0.4444444444444444,\"#bd3786\"],[0.5555555555555556,\"#d8576b\"],[0.6666666666666666,\"#ed7953\"],[0.7777777777777778,\"#fb9f3a\"],[0.8888888888888888,\"#fdca26\"],[1.0,\"#f0f921\"]],\"type\":\"heatmapgl\"}],\"histogram\":[{\"marker\":{\"pattern\":{\"fillmode\":\"overlay\",\"size\":10,\"solidity\":0.2}},\"type\":\"histogram\"}],\"histogram2d\":[{\"colorbar\":{\"outlinewidth\":0,\"ticks\":\"\"},\"colorscale\":[[0.0,\"#0d0887\"],[0.1111111111111111,\"#46039f\"],[0.2222222222222222,\"#7201a8\"],[0.3333333333333333,\"#9c179e\"],[0.4444444444444444,\"#bd3786\"],[0.5555555555555556,\"#d8576b\"],[0.6666666666666666,\"#ed7953\"],[0.7777777777777778,\"#fb9f3a\"],[0.8888888888888888,\"#fdca26\"],[1.0,\"#f0f921\"]],\"type\":\"histogram2d\"}],\"histogram2dcontour\":[{\"colorbar\":{\"outlinewidth\":0,\"ticks\":\"\"},\"colorscale\":[[0.0,\"#0d0887\"],[0.1111111111111111,\"#46039f\"],[0.2222222222222222,\"#7201a8\"],[0.3333333333333333,\"#9c179e\"],[0.4444444444444444,\"#bd3786\"],[0.5555555555555556,\"#d8576b\"],[0.6666666666666666,\"#ed7953\"],[0.7777777777777778,\"#fb9f3a\"],[0.8888888888888888,\"#fdca26\"],[1.0,\"#f0f921\"]],\"type\":\"histogram2dcontour\"}],\"mesh3d\":[{\"colorbar\":{\"outlinewidth\":0,\"ticks\":\"\"},\"type\":\"mesh3d\"}],\"parcoords\":[{\"line\":{\"colorbar\":{\"outlinewidth\":0,\"ticks\":\"\"}},\"type\":\"parcoords\"}],\"pie\":[{\"automargin\":true,\"type\":\"pie\"}],\"scatter\":[{\"marker\":{\"colorbar\":{\"outlinewidth\":0,\"ticks\":\"\"}},\"type\":\"scatter\"}],\"scatter3d\":[{\"line\":{\"colorbar\":{\"outlinewidth\":0,\"ticks\":\"\"}},\"marker\":{\"colorbar\":{\"outlinewidth\":0,\"ticks\":\"\"}},\"type\":\"scatter3d\"}],\"scattercarpet\":[{\"marker\":{\"colorbar\":{\"outlinewidth\":0,\"ticks\":\"\"}},\"type\":\"scattercarpet\"}],\"scattergeo\":[{\"marker\":{\"colorbar\":{\"outlinewidth\":0,\"ticks\":\"\"}},\"type\":\"scattergeo\"}],\"scattergl\":[{\"marker\":{\"colorbar\":{\"outlinewidth\":0,\"ticks\":\"\"}},\"type\":\"scattergl\"}],\"scattermapbox\":[{\"marker\":{\"colorbar\":{\"outlinewidth\":0,\"ticks\":\"\"}},\"type\":\"scattermapbox\"}],\"scatterpolar\":[{\"marker\":{\"colorbar\":{\"outlinewidth\":0,\"ticks\":\"\"}},\"type\":\"scatterpolar\"}],\"scatterpolargl\":[{\"marker\":{\"colorbar\":{\"outlinewidth\":0,\"ticks\":\"\"}},\"type\":\"scatterpolargl\"}],\"scatterternary\":[{\"marker\":{\"colorbar\":{\"outlinewidth\":0,\"ticks\":\"\"}},\"type\":\"scatterternary\"}],\"surface\":[{\"colorbar\":{\"outlinewidth\":0,\"ticks\":\"\"},\"colorscale\":[[0.0,\"#0d0887\"],[0.1111111111111111,\"#46039f\"],[0.2222222222222222,\"#7201a8\"],[0.3333333333333333,\"#9c179e\"],[0.4444444444444444,\"#bd3786\"],[0.5555555555555556,\"#d8576b\"],[0.6666666666666666,\"#ed7953\"],[0.7777777777777778,\"#fb9f3a\"],[0.8888888888888888,\"#fdca26\"],[1.0,\"#f0f921\"]],\"type\":\"surface\"}],\"table\":[{\"cells\":{\"fill\":{\"color\":\"#EBF0F8\"},\"line\":{\"color\":\"white\"}},\"header\":{\"fill\":{\"color\":\"#C8D4E3\"},\"line\":{\"color\":\"white\"}},\"type\":\"table\"}]},\"layout\":{\"annotationdefaults\":{\"arrowcolor\":\"#2a3f5f\",\"arrowhead\":0,\"arrowwidth\":1},\"autotypenumbers\":\"strict\",\"coloraxis\":{\"colorbar\":{\"outlinewidth\":0,\"ticks\":\"\"}},\"colorscale\":{\"diverging\":[[0,\"#8e0152\"],[0.1,\"#c51b7d\"],[0.2,\"#de77ae\"],[0.3,\"#f1b6da\"],[0.4,\"#fde0ef\"],[0.5,\"#f7f7f7\"],[0.6,\"#e6f5d0\"],[0.7,\"#b8e186\"],[0.8,\"#7fbc41\"],[0.9,\"#4d9221\"],[1,\"#276419\"]],\"sequential\":[[0.0,\"#0d0887\"],[0.1111111111111111,\"#46039f\"],[0.2222222222222222,\"#7201a8\"],[0.3333333333333333,\"#9c179e\"],[0.4444444444444444,\"#bd3786\"],[0.5555555555555556,\"#d8576b\"],[0.6666666666666666,\"#ed7953\"],[0.7777777777777778,\"#fb9f3a\"],[0.8888888888888888,\"#fdca26\"],[1.0,\"#f0f921\"]],\"sequentialminus\":[[0.0,\"#0d0887\"],[0.1111111111111111,\"#46039f\"],[0.2222222222222222,\"#7201a8\"],[0.3333333333333333,\"#9c179e\"],[0.4444444444444444,\"#bd3786\"],[0.5555555555555556,\"#d8576b\"],[0.6666666666666666,\"#ed7953\"],[0.7777777777777778,\"#fb9f3a\"],[0.8888888888888888,\"#fdca26\"],[1.0,\"#f0f921\"]]},\"colorway\":[\"#636efa\",\"#EF553B\",\"#00cc96\",\"#ab63fa\",\"#FFA15A\",\"#19d3f3\",\"#FF6692\",\"#B6E880\",\"#FF97FF\",\"#FECB52\"],\"font\":{\"color\":\"#2a3f5f\"},\"geo\":{\"bgcolor\":\"white\",\"lakecolor\":\"white\",\"landcolor\":\"#E5ECF6\",\"showlakes\":true,\"showland\":true,\"subunitcolor\":\"white\"},\"hoverlabel\":{\"align\":\"left\"},\"hovermode\":\"closest\",\"mapbox\":{\"style\":\"light\"},\"paper_bgcolor\":\"white\",\"plot_bgcolor\":\"#E5ECF6\",\"polar\":{\"angularaxis\":{\"gridcolor\":\"white\",\"linecolor\":\"white\",\"ticks\":\"\"},\"bgcolor\":\"#E5ECF6\",\"radialaxis\":{\"gridcolor\":\"white\",\"linecolor\":\"white\",\"ticks\":\"\"}},\"scene\":{\"xaxis\":{\"backgroundcolor\":\"#E5ECF6\",\"gridcolor\":\"white\",\"gridwidth\":2,\"linecolor\":\"white\",\"showbackground\":true,\"ticks\":\"\",\"zerolinecolor\":\"white\"},\"yaxis\":{\"backgroundcolor\":\"#E5ECF6\",\"gridcolor\":\"white\",\"gridwidth\":2,\"linecolor\":\"white\",\"showbackground\":true,\"ticks\":\"\",\"zerolinecolor\":\"white\"},\"zaxis\":{\"backgroundcolor\":\"#E5ECF6\",\"gridcolor\":\"white\",\"gridwidth\":2,\"linecolor\":\"white\",\"showbackground\":true,\"ticks\":\"\",\"zerolinecolor\":\"white\"}},\"shapedefaults\":{\"line\":{\"color\":\"#2a3f5f\"}},\"ternary\":{\"aaxis\":{\"gridcolor\":\"white\",\"linecolor\":\"white\",\"ticks\":\"\"},\"baxis\":{\"gridcolor\":\"white\",\"linecolor\":\"white\",\"ticks\":\"\"},\"bgcolor\":\"#E5ECF6\",\"caxis\":{\"gridcolor\":\"white\",\"linecolor\":\"white\",\"ticks\":\"\"}},\"title\":{\"x\":0.05},\"xaxis\":{\"automargin\":true,\"gridcolor\":\"white\",\"linecolor\":\"white\",\"ticks\":\"\",\"title\":{\"standoff\":15},\"zerolinecolor\":\"white\",\"zerolinewidth\":2},\"yaxis\":{\"automargin\":true,\"gridcolor\":\"white\",\"linecolor\":\"white\",\"ticks\":\"\",\"title\":{\"standoff\":15},\"zerolinecolor\":\"white\",\"zerolinewidth\":2}}},\"xaxis\":{\"anchor\":\"y\",\"domain\":[0.0,1.0],\"title\":{\"text\":\"Cumulative Days\"}},\"yaxis\":{\"anchor\":\"x\",\"domain\":[0.0,1.0],\"title\":{\"text\":\"Beta\"}},\"legend\":{\"title\":{\"text\":\"Peak\"},\"tracegroupgap\":0,\"itemsizing\":\"constant\"},\"margin\":{\"t\":60},\"height\":400},                        {\"responsive\": true}                    ).then(function(){\n",
       "                            \n",
       "var gd = document.getElementById('0bd5f449-5a91-4e67-8500-59e3c88f3f67');\n",
       "var x = new MutationObserver(function (mutations, observer) {{\n",
       "        var display = window.getComputedStyle(gd).display;\n",
       "        if (!display || display === 'none') {{\n",
       "            console.log([gd, 'removed!']);\n",
       "            Plotly.purge(gd);\n",
       "            observer.disconnect();\n",
       "        }}\n",
       "}});\n",
       "\n",
       "// Listen for the removal of the full notebook cells\n",
       "var notebookContainer = gd.closest('#notebook-container');\n",
       "if (notebookContainer) {{\n",
       "    x.observe(notebookContainer, {childList: true});\n",
       "}}\n",
       "\n",
       "// Listen for the clearing of the current output cell\n",
       "var outputEl = gd.closest('.output');\n",
       "if (outputEl) {{\n",
       "    x.observe(outputEl, {childList: true});\n",
       "}}\n",
       "\n",
       "                        })                };                });            </script>        </div>"
      ]
     },
     "metadata": {},
     "output_type": "display_data"
    }
   ],
   "source": [
    "log = False\n",
    "fig = px.scatter(result, x='Cumulative Days', y='Beta', color='Peak', size='Klbs',\n",
    "                    log_x=log, log_y=log)\n",
    "fig.update_layout(\n",
    "                height= 400)"
   ]
  },
  {
   "cell_type": "code",
   "execution_count": 122,
   "id": "f06bf797-e984-442c-8b4b-7e40f0d5a093",
   "metadata": {},
   "outputs": [],
   "source": [
    "def make_scatter_with_regr(result, peaks):\n",
    "    # plot len(peaks) + 1 linear models\n",
    "    log = False\n",
    "    fig = px.scatter(result, x='Cumulative Days', y='Failure Number', color='Peak', size='Klbs',\n",
    "                        log_x=log, log_y=log)\n",
    "    fig.update_layout(\n",
    "                    height= 400)\n",
    "\n",
    "    for i in range(len(peaks)+1):\n",
    "        # define range, fit model\n",
    "\n",
    "        model = linear_model.LinearRegression()\n",
    "        if i == 0: # first seg\n",
    "            segment = peaks[i]\n",
    "            x = result.iloc[0:segment]['Cumulative Days'].values\n",
    "            y = result.iloc[0:segment]['Failure Number'].values\n",
    "        elif i == len(peaks): # last seg\n",
    "            segment = peaks[i-1]\n",
    "            x = result.iloc[segment:]['Cumulative Days'].values\n",
    "            y = result.iloc[segment:]['Failure Number'].values\n",
    "        else: # middle segs\n",
    "            segment = peaks[i]\n",
    "            x = result.iloc[old_segment:segment]['Cumulative Days'].values\n",
    "            y = result.iloc[old_segment:segment]['Failure Number'].values\n",
    "        model.fit(x.reshape(-1,1),y)\n",
    "\n",
    "        # grab coefs, make line\n",
    "        m = model.coef_[0]\n",
    "        b = model.intercept_\n",
    "        regrx = np.linspace(x[0], x[-1])\n",
    "        regry = regrx*m+b\n",
    "\n",
    "        old_segment = segment\n",
    "        fig.add_trace(go.Scatter(x=regrx, y=regry,\n",
    "                        mode='lines',\n",
    "                        name=f'slope: {m:.3f}',\n",
    "                            ))\n",
    "    return fig"
   ]
  },
  {
   "cell_type": "code",
   "execution_count": 123,
   "id": "27d90633-8ac8-4937-9497-68f01e8fb079",
   "metadata": {},
   "outputs": [
    {
     "data": {
      "application/vnd.plotly.v1+json": {
       "config": {
        "plotlyServerURL": "https://plot.ly"
       },
       "data": [
        {
         "hovertemplate": "Peak=False<br>Cumulative Days=%{x}<br>Failure Number=%{y}<br>Klbs=%{marker.size}<extra></extra>",
         "legendgroup": "False",
         "marker": {
          "color": "#636efa",
          "size": [
           10956.16,
           50958.9,
           14608.22,
           15967.12,
           11975.34,
           1698.63,
           16731.51,
           20876.71,
           15032.88,
           3312.33,
           8219.18,
           13972.6,
           1972.6,
           7134.25,
           9767.12,
           18600,
           7643.84,
           4756.16,
           7397.26,
           50534.25,
           15202.74,
           14608.22,
           12394.52,
           14693.15,
           11095.89,
           12986.3,
           55460.27,
           14947.95,
           44383.56,
           20712.33,
           53506.85,
           1189.04,
           29980.82,
           2369.59,
           27178.08,
           68030.14,
           7219.18,
           21063.01,
           12060.27,
           11380.82,
           4602.74,
           4671.23,
           3698.63,
           7813.7,
           0,
           0
          ],
          "sizemode": "area",
          "sizeref": 170.07535,
          "symbol": "circle"
         },
         "mode": "markers",
         "name": "False",
         "orientation": "v",
         "showlegend": true,
         "type": "scatter",
         "x": [
          74,
          135,
          196,
          288,
          380,
          395,
          500,
          531,
          592,
          804,
          821,
          835,
          850,
          865,
          912,
          926,
          943,
          957,
          974,
          1110,
          1322,
          1444,
          1506,
          1535,
          1566,
          1596,
          1657,
          1688,
          1705,
          1719,
          1749,
          1900,
          1961,
          1992,
          2084,
          2114,
          2540,
          2752,
          2769,
          2783,
          2814,
          3027,
          3057,
          3302,
          3333,
          3346
         ],
         "xaxis": "x",
         "y": [
          1,
          2,
          3,
          4,
          5,
          6,
          7,
          8,
          9,
          11,
          12,
          13,
          14,
          15,
          16,
          17,
          18,
          19,
          20,
          22,
          23,
          25,
          26,
          27,
          28,
          29,
          30,
          31,
          32,
          33,
          34,
          36,
          37,
          38,
          39,
          40,
          41,
          42,
          43,
          44,
          45,
          46,
          47,
          48,
          49,
          50
         ],
         "yaxis": "y"
        },
        {
         "hovertemplate": "Peak=True<br>Cumulative Days=%{x}<br>Failure Number=%{y}<br>Klbs=%{marker.size}<extra></extra>",
         "legendgroup": "True",
         "marker": {
          "color": "#EF553B",
          "size": [
           5945.21,
           8301.37,
           13561.64,
           14712.33
          ],
          "sizemode": "area",
          "sizeref": 170.07535,
          "symbol": "circle"
         },
         "mode": "markers",
         "name": "True",
         "orientation": "v",
         "showlegend": true,
         "type": "scatter",
         "x": [
          745,
          988,
          1414,
          1780
         ],
         "xaxis": "x",
         "y": [
          10,
          21,
          24,
          35
         ],
         "yaxis": "y"
        },
        {
         "mode": "lines",
         "name": "slope: 0.015",
         "type": "scatter",
         "x": [
          74,
          84.57142857142857,
          95.14285714285714,
          105.71428571428572,
          116.28571428571428,
          126.85714285714286,
          137.42857142857144,
          148,
          158.57142857142856,
          169.14285714285714,
          179.71428571428572,
          190.28571428571428,
          200.85714285714286,
          211.42857142857142,
          222,
          232.57142857142856,
          243.14285714285714,
          253.71428571428572,
          264.2857142857143,
          274.8571428571429,
          285.42857142857144,
          296,
          306.57142857142856,
          317.1428571428571,
          327.7142857142857,
          338.2857142857143,
          348.85714285714283,
          359.42857142857144,
          370,
          380.57142857142856,
          391.1428571428571,
          401.7142857142857,
          412.2857142857143,
          422.85714285714283,
          433.42857142857144,
          444,
          454.57142857142856,
          465.1428571428571,
          475.7142857142857,
          486.2857142857143,
          496.85714285714283,
          507.42857142857144,
          518,
          528.5714285714286,
          539.1428571428571,
          549.7142857142858,
          560.2857142857142,
          570.8571428571429,
          581.4285714285714,
          592
         ],
         "y": [
          0.9784293830660886,
          1.1362123598482967,
          1.293995336630505,
          1.4517783134127134,
          1.6095612901949214,
          1.7673442669771298,
          1.9251272437593383,
          2.0829102205415464,
          2.240693197323754,
          2.3984761741059626,
          2.556259150888171,
          2.7140421276703792,
          2.8718251044525878,
          3.0296080812347954,
          3.187391058017004,
          3.345174034799212,
          3.5029570115814206,
          3.6607399883636287,
          3.818522965145837,
          3.9763059419280458,
          4.134088918710254,
          4.291871895492462,
          4.44965487227467,
          4.607437849056877,
          4.765220825839086,
          4.923003802621294,
          5.080786779403502,
          5.238569756185711,
          5.3963527329679195,
          5.554135709750128,
          5.711918686532336,
          5.869701663314545,
          6.027484640096752,
          6.18526761687896,
          6.343050593661169,
          6.500833570443377,
          6.658616547225585,
          6.816399524007793,
          6.974182500790002,
          7.13196547757221,
          7.2897484543544175,
          7.4475314311366265,
          7.605314407918835,
          7.763097384701043,
          7.920880361483251,
          8.07866333826546,
          8.236446315047667,
          8.394229291829877,
          8.552012268612085,
          8.709795245394293
         ]
        },
        {
         "mode": "lines",
         "name": "slope: 0.045",
         "type": "scatter",
         "x": [
          745,
          749.6734693877551,
          754.3469387755102,
          759.0204081632653,
          763.6938775510204,
          768.3673469387755,
          773.0408163265306,
          777.7142857142857,
          782.3877551020408,
          787.0612244897959,
          791.734693877551,
          796.4081632653061,
          801.0816326530612,
          805.7551020408164,
          810.4285714285714,
          815.1020408163265,
          819.7755102040817,
          824.4489795918367,
          829.1224489795918,
          833.795918367347,
          838.469387755102,
          843.1428571428571,
          847.8163265306123,
          852.4897959183673,
          857.1632653061224,
          861.8367346938776,
          866.5102040816327,
          871.1836734693877,
          875.8571428571429,
          880.530612244898,
          885.204081632653,
          889.8775510204082,
          894.5510204081633,
          899.2244897959183,
          903.8979591836735,
          908.5714285714286,
          913.2448979591836,
          917.9183673469388,
          922.5918367346939,
          927.2653061224489,
          931.9387755102041,
          936.6122448979592,
          941.2857142857142,
          945.9591836734694,
          950.6326530612245,
          955.3061224489795,
          959.9795918367347,
          964.6530612244898,
          969.3265306122448,
          974
         ],
         "y": [
          9.087252417159483,
          9.298778856328035,
          9.510305295496593,
          9.721831734665145,
          9.933358173833689,
          10.144884613002247,
          10.356411052170799,
          10.56793749133935,
          10.779463930507902,
          10.990990369676453,
          11.202516808845004,
          11.414043248013556,
          11.625569687182107,
          11.837096126350666,
          12.048622565519217,
          12.260149004687761,
          12.47167544385632,
          12.683201883024871,
          12.894728322193423,
          13.106254761361974,
          13.317781200530526,
          13.529307639699077,
          13.740834078867628,
          13.95236051803618,
          14.163886957204731,
          14.37541339637329,
          14.586939835541834,
          14.798466274710385,
          15.009992713878944,
          15.221519153047495,
          15.43304559221604,
          15.644572031384598,
          15.85609847055315,
          16.0676249097217,
          16.279151348890252,
          16.490677788058804,
          16.702204227227355,
          16.913730666395907,
          17.125257105564458,
          17.33678354473301,
          17.548309983901568,
          17.759836423070112,
          17.971362862238664,
          18.182889301407222,
          18.394415740575774,
          18.605942179744325,
          18.817468618912876,
          19.028995058081428,
          19.24052149724998,
          19.45204793641853
         ]
        },
        {
         "mode": "lines",
         "name": "slope: 0.006",
         "type": "scatter",
         "x": [
          988,
          994.8163265306123,
          1001.6326530612245,
          1008.4489795918367,
          1015.265306122449,
          1022.0816326530612,
          1028.8979591836735,
          1035.7142857142858,
          1042.530612244898,
          1049.3469387755101,
          1056.1632653061224,
          1062.9795918367347,
          1069.795918367347,
          1076.6122448979593,
          1083.4285714285713,
          1090.2448979591836,
          1097.061224489796,
          1103.8775510204082,
          1110.6938775510205,
          1117.5102040816328,
          1124.3265306122448,
          1131.142857142857,
          1137.9591836734694,
          1144.7755102040817,
          1151.591836734694,
          1158.408163265306,
          1165.2244897959183,
          1172.0408163265306,
          1178.857142857143,
          1185.6734693877552,
          1192.4897959183672,
          1199.3061224489795,
          1206.1224489795918,
          1212.938775510204,
          1219.7551020408164,
          1226.5714285714287,
          1233.3877551020407,
          1240.204081632653,
          1247.0204081632653,
          1253.8367346938776,
          1260.6530612244899,
          1267.4693877551022,
          1274.2857142857142,
          1281.1020408163265,
          1287.9183673469388,
          1294.734693877551,
          1301.5510204081634,
          1308.3673469387754,
          1315.1836734693877,
          1322
         ],
         "y": [
          21.111328945525837,
          21.151180735562676,
          21.191032525599514,
          21.230884315636352,
          21.27073610567319,
          21.31058789571003,
          21.350439685746863,
          21.390291475783705,
          21.430143265820544,
          21.469995055857378,
          21.509846845894216,
          21.54969863593106,
          21.589550425967893,
          21.629402216004735,
          21.66925400604157,
          21.709105796078408,
          21.748957586115246,
          21.788809376152084,
          21.828661166188922,
          21.86851295622576,
          21.9083647462626,
          21.948216536299437,
          21.988068326336276,
          22.027920116373114,
          22.067771906409952,
          22.10762369644679,
          22.14747548648363,
          22.187327276520467,
          22.227179066557305,
          22.267030856594143,
          22.30688264663098,
          22.34673443666782,
          22.386586226704658,
          22.426438016741496,
          22.466289806778335,
          22.506141596815173,
          22.54599338685201,
          22.585845176888846,
          22.625696966925688,
          22.665548756962522,
          22.705400546999364,
          22.745252337036202,
          22.785104127073037,
          22.824955917109875,
          22.864807707146717,
          22.90465949718355,
          22.944511287220394,
          22.98436307725723,
          23.024214867294067,
          23.064066657330905
         ]
        },
        {
         "mode": "lines",
         "name": "slope: 0.029",
         "type": "scatter",
         "x": [
          1414,
          1420.8367346938776,
          1427.6734693877552,
          1434.5102040816328,
          1441.3469387755101,
          1448.1836734693877,
          1455.0204081632653,
          1461.857142857143,
          1468.6938775510205,
          1475.530612244898,
          1482.3673469387754,
          1489.204081632653,
          1496.0408163265306,
          1502.8775510204082,
          1509.7142857142858,
          1516.5510204081634,
          1523.3877551020407,
          1530.2244897959183,
          1537.061224489796,
          1543.8979591836735,
          1550.734693877551,
          1557.5714285714284,
          1564.408163265306,
          1571.2448979591836,
          1578.0816326530612,
          1584.9183673469388,
          1591.7551020408164,
          1598.591836734694,
          1605.4285714285713,
          1612.265306122449,
          1619.1020408163265,
          1625.938775510204,
          1632.7755102040817,
          1639.6122448979593,
          1646.4489795918366,
          1653.2857142857142,
          1660.1224489795918,
          1666.9591836734694,
          1673.795918367347,
          1680.6326530612246,
          1687.4693877551022,
          1694.3061224489795,
          1701.142857142857,
          1707.9795918367347,
          1714.8163265306123,
          1721.6530612244896,
          1728.4897959183672,
          1735.3265306122448,
          1742.1632653061224,
          1749
         ],
         "y": [
          23.723857526231313,
          23.919801945640103,
          24.1157463650489,
          24.311690784457696,
          24.507635203866485,
          24.70357962327528,
          24.899524042684078,
          25.095468462092875,
          25.29141288150167,
          25.48735730091046,
          25.68330172031925,
          25.879246139728046,
          26.075190559136843,
          26.27113497854564,
          26.467079397954436,
          26.663023817363232,
          26.85896823677202,
          27.054912656180818,
          27.250857075589607,
          27.446801494998404,
          27.6427459144072,
          27.83869033381599,
          28.034634753224786,
          28.230579172633583,
          28.42652359204238,
          28.622468011451176,
          28.818412430859965,
          29.01435685026876,
          29.21030126967755,
          29.406245689086347,
          29.602190108495144,
          29.79813452790394,
          29.994078947312737,
          30.190023366721533,
          30.385967786130323,
          30.58191220553912,
          30.77785662494791,
          30.973801044356705,
          31.1697454637655,
          31.365689883174298,
          31.561634302583094,
          31.757578721991884,
          31.95352314140068,
          32.14946756080948,
          32.345411980218266,
          32.541356399627055,
          32.73730081903585,
          32.93324523844465,
          33.129189657853445,
          33.32513407726224
         ]
        },
        {
         "mode": "lines",
         "name": "slope: 0.008",
         "type": "scatter",
         "x": [
          1780,
          1811.9591836734694,
          1843.9183673469388,
          1875.8775510204082,
          1907.8367346938776,
          1939.795918367347,
          1971.7551020408164,
          2003.7142857142858,
          2035.6734693877552,
          2067.6326530612246,
          2099.591836734694,
          2131.5510204081634,
          2163.5102040816328,
          2195.469387755102,
          2227.4285714285716,
          2259.387755102041,
          2291.3469387755104,
          2323.3061224489793,
          2355.265306122449,
          2387.224489795918,
          2419.183673469388,
          2451.142857142857,
          2483.1020408163267,
          2515.0612244897957,
          2547.0204081632655,
          2578.9795918367345,
          2610.9387755102043,
          2642.8979591836733,
          2674.8571428571427,
          2706.816326530612,
          2738.7755102040815,
          2770.734693877551,
          2802.6938775510203,
          2834.6530612244896,
          2866.612244897959,
          2898.5714285714284,
          2930.530612244898,
          2962.4897959183672,
          2994.4489795918366,
          3026.408163265306,
          3058.3673469387754,
          3090.326530612245,
          3122.285714285714,
          3154.2448979591836,
          3186.204081632653,
          3218.1632653061224,
          3250.122448979592,
          3282.081632653061,
          3314.0408163265306,
          3346
         ],
         "y": [
          35.566430538205275,
          35.83761453079179,
          36.108798523378304,
          36.37998251596482,
          36.651166508551334,
          36.92235050113785,
          37.193534493724364,
          37.46471848631088,
          37.735902478897394,
          38.00708647148391,
          38.278270464070424,
          38.54945445665694,
          38.820638449243454,
          39.09182244182997,
          39.363006434416484,
          39.634190427003,
          39.90537441958951,
          40.17655841217602,
          40.44774240476254,
          40.71892639734905,
          40.99011038993557,
          41.26129438252208,
          41.5324783751086,
          41.80366236769511,
          42.07484636028163,
          42.34603035286814,
          42.61721434545466,
          42.88839833804117,
          43.159582330627686,
          43.4307663232142,
          43.701950315800715,
          43.97313430838723,
          44.244318300973745,
          44.51550229356026,
          44.786686286146775,
          45.05787027873329,
          45.329054271319805,
          45.60023826390632,
          45.871422256492835,
          46.14260624907935,
          46.413790241665865,
          46.68497423425238,
          46.956158226838895,
          47.22734221942541,
          47.498526212011924,
          47.76971020459844,
          48.040894197184954,
          48.31207818977147,
          48.583262182357984,
          48.8544461749445
         ]
        }
       ],
       "layout": {
        "autosize": true,
        "legend": {
         "itemsizing": "constant",
         "title": {
          "text": "Peak"
         },
         "tracegroupgap": 0
        },
        "margin": {
         "t": 60
        },
        "template": {
         "data": {
          "bar": [
           {
            "error_x": {
             "color": "#2a3f5f"
            },
            "error_y": {
             "color": "#2a3f5f"
            },
            "marker": {
             "line": {
              "color": "#E5ECF6",
              "width": 0.5
             },
             "pattern": {
              "fillmode": "overlay",
              "size": 10,
              "solidity": 0.2
             }
            },
            "type": "bar"
           }
          ],
          "barpolar": [
           {
            "marker": {
             "line": {
              "color": "#E5ECF6",
              "width": 0.5
             },
             "pattern": {
              "fillmode": "overlay",
              "size": 10,
              "solidity": 0.2
             }
            },
            "type": "barpolar"
           }
          ],
          "carpet": [
           {
            "aaxis": {
             "endlinecolor": "#2a3f5f",
             "gridcolor": "white",
             "linecolor": "white",
             "minorgridcolor": "white",
             "startlinecolor": "#2a3f5f"
            },
            "baxis": {
             "endlinecolor": "#2a3f5f",
             "gridcolor": "white",
             "linecolor": "white",
             "minorgridcolor": "white",
             "startlinecolor": "#2a3f5f"
            },
            "type": "carpet"
           }
          ],
          "choropleth": [
           {
            "colorbar": {
             "outlinewidth": 0,
             "ticks": ""
            },
            "type": "choropleth"
           }
          ],
          "contour": [
           {
            "colorbar": {
             "outlinewidth": 0,
             "ticks": ""
            },
            "colorscale": [
             [
              0,
              "#0d0887"
             ],
             [
              0.1111111111111111,
              "#46039f"
             ],
             [
              0.2222222222222222,
              "#7201a8"
             ],
             [
              0.3333333333333333,
              "#9c179e"
             ],
             [
              0.4444444444444444,
              "#bd3786"
             ],
             [
              0.5555555555555556,
              "#d8576b"
             ],
             [
              0.6666666666666666,
              "#ed7953"
             ],
             [
              0.7777777777777778,
              "#fb9f3a"
             ],
             [
              0.8888888888888888,
              "#fdca26"
             ],
             [
              1,
              "#f0f921"
             ]
            ],
            "type": "contour"
           }
          ],
          "contourcarpet": [
           {
            "colorbar": {
             "outlinewidth": 0,
             "ticks": ""
            },
            "type": "contourcarpet"
           }
          ],
          "heatmap": [
           {
            "colorbar": {
             "outlinewidth": 0,
             "ticks": ""
            },
            "colorscale": [
             [
              0,
              "#0d0887"
             ],
             [
              0.1111111111111111,
              "#46039f"
             ],
             [
              0.2222222222222222,
              "#7201a8"
             ],
             [
              0.3333333333333333,
              "#9c179e"
             ],
             [
              0.4444444444444444,
              "#bd3786"
             ],
             [
              0.5555555555555556,
              "#d8576b"
             ],
             [
              0.6666666666666666,
              "#ed7953"
             ],
             [
              0.7777777777777778,
              "#fb9f3a"
             ],
             [
              0.8888888888888888,
              "#fdca26"
             ],
             [
              1,
              "#f0f921"
             ]
            ],
            "type": "heatmap"
           }
          ],
          "heatmapgl": [
           {
            "colorbar": {
             "outlinewidth": 0,
             "ticks": ""
            },
            "colorscale": [
             [
              0,
              "#0d0887"
             ],
             [
              0.1111111111111111,
              "#46039f"
             ],
             [
              0.2222222222222222,
              "#7201a8"
             ],
             [
              0.3333333333333333,
              "#9c179e"
             ],
             [
              0.4444444444444444,
              "#bd3786"
             ],
             [
              0.5555555555555556,
              "#d8576b"
             ],
             [
              0.6666666666666666,
              "#ed7953"
             ],
             [
              0.7777777777777778,
              "#fb9f3a"
             ],
             [
              0.8888888888888888,
              "#fdca26"
             ],
             [
              1,
              "#f0f921"
             ]
            ],
            "type": "heatmapgl"
           }
          ],
          "histogram": [
           {
            "marker": {
             "pattern": {
              "fillmode": "overlay",
              "size": 10,
              "solidity": 0.2
             }
            },
            "type": "histogram"
           }
          ],
          "histogram2d": [
           {
            "colorbar": {
             "outlinewidth": 0,
             "ticks": ""
            },
            "colorscale": [
             [
              0,
              "#0d0887"
             ],
             [
              0.1111111111111111,
              "#46039f"
             ],
             [
              0.2222222222222222,
              "#7201a8"
             ],
             [
              0.3333333333333333,
              "#9c179e"
             ],
             [
              0.4444444444444444,
              "#bd3786"
             ],
             [
              0.5555555555555556,
              "#d8576b"
             ],
             [
              0.6666666666666666,
              "#ed7953"
             ],
             [
              0.7777777777777778,
              "#fb9f3a"
             ],
             [
              0.8888888888888888,
              "#fdca26"
             ],
             [
              1,
              "#f0f921"
             ]
            ],
            "type": "histogram2d"
           }
          ],
          "histogram2dcontour": [
           {
            "colorbar": {
             "outlinewidth": 0,
             "ticks": ""
            },
            "colorscale": [
             [
              0,
              "#0d0887"
             ],
             [
              0.1111111111111111,
              "#46039f"
             ],
             [
              0.2222222222222222,
              "#7201a8"
             ],
             [
              0.3333333333333333,
              "#9c179e"
             ],
             [
              0.4444444444444444,
              "#bd3786"
             ],
             [
              0.5555555555555556,
              "#d8576b"
             ],
             [
              0.6666666666666666,
              "#ed7953"
             ],
             [
              0.7777777777777778,
              "#fb9f3a"
             ],
             [
              0.8888888888888888,
              "#fdca26"
             ],
             [
              1,
              "#f0f921"
             ]
            ],
            "type": "histogram2dcontour"
           }
          ],
          "mesh3d": [
           {
            "colorbar": {
             "outlinewidth": 0,
             "ticks": ""
            },
            "type": "mesh3d"
           }
          ],
          "parcoords": [
           {
            "line": {
             "colorbar": {
              "outlinewidth": 0,
              "ticks": ""
             }
            },
            "type": "parcoords"
           }
          ],
          "pie": [
           {
            "automargin": true,
            "type": "pie"
           }
          ],
          "scatter": [
           {
            "marker": {
             "colorbar": {
              "outlinewidth": 0,
              "ticks": ""
             }
            },
            "type": "scatter"
           }
          ],
          "scatter3d": [
           {
            "line": {
             "colorbar": {
              "outlinewidth": 0,
              "ticks": ""
             }
            },
            "marker": {
             "colorbar": {
              "outlinewidth": 0,
              "ticks": ""
             }
            },
            "type": "scatter3d"
           }
          ],
          "scattercarpet": [
           {
            "marker": {
             "colorbar": {
              "outlinewidth": 0,
              "ticks": ""
             }
            },
            "type": "scattercarpet"
           }
          ],
          "scattergeo": [
           {
            "marker": {
             "colorbar": {
              "outlinewidth": 0,
              "ticks": ""
             }
            },
            "type": "scattergeo"
           }
          ],
          "scattergl": [
           {
            "marker": {
             "colorbar": {
              "outlinewidth": 0,
              "ticks": ""
             }
            },
            "type": "scattergl"
           }
          ],
          "scattermapbox": [
           {
            "marker": {
             "colorbar": {
              "outlinewidth": 0,
              "ticks": ""
             }
            },
            "type": "scattermapbox"
           }
          ],
          "scatterpolar": [
           {
            "marker": {
             "colorbar": {
              "outlinewidth": 0,
              "ticks": ""
             }
            },
            "type": "scatterpolar"
           }
          ],
          "scatterpolargl": [
           {
            "marker": {
             "colorbar": {
              "outlinewidth": 0,
              "ticks": ""
             }
            },
            "type": "scatterpolargl"
           }
          ],
          "scatterternary": [
           {
            "marker": {
             "colorbar": {
              "outlinewidth": 0,
              "ticks": ""
             }
            },
            "type": "scatterternary"
           }
          ],
          "surface": [
           {
            "colorbar": {
             "outlinewidth": 0,
             "ticks": ""
            },
            "colorscale": [
             [
              0,
              "#0d0887"
             ],
             [
              0.1111111111111111,
              "#46039f"
             ],
             [
              0.2222222222222222,
              "#7201a8"
             ],
             [
              0.3333333333333333,
              "#9c179e"
             ],
             [
              0.4444444444444444,
              "#bd3786"
             ],
             [
              0.5555555555555556,
              "#d8576b"
             ],
             [
              0.6666666666666666,
              "#ed7953"
             ],
             [
              0.7777777777777778,
              "#fb9f3a"
             ],
             [
              0.8888888888888888,
              "#fdca26"
             ],
             [
              1,
              "#f0f921"
             ]
            ],
            "type": "surface"
           }
          ],
          "table": [
           {
            "cells": {
             "fill": {
              "color": "#EBF0F8"
             },
             "line": {
              "color": "white"
             }
            },
            "header": {
             "fill": {
              "color": "#C8D4E3"
             },
             "line": {
              "color": "white"
             }
            },
            "type": "table"
           }
          ]
         },
         "layout": {
          "annotationdefaults": {
           "arrowcolor": "#2a3f5f",
           "arrowhead": 0,
           "arrowwidth": 1
          },
          "autotypenumbers": "strict",
          "coloraxis": {
           "colorbar": {
            "outlinewidth": 0,
            "ticks": ""
           }
          },
          "colorscale": {
           "diverging": [
            [
             0,
             "#8e0152"
            ],
            [
             0.1,
             "#c51b7d"
            ],
            [
             0.2,
             "#de77ae"
            ],
            [
             0.3,
             "#f1b6da"
            ],
            [
             0.4,
             "#fde0ef"
            ],
            [
             0.5,
             "#f7f7f7"
            ],
            [
             0.6,
             "#e6f5d0"
            ],
            [
             0.7,
             "#b8e186"
            ],
            [
             0.8,
             "#7fbc41"
            ],
            [
             0.9,
             "#4d9221"
            ],
            [
             1,
             "#276419"
            ]
           ],
           "sequential": [
            [
             0,
             "#0d0887"
            ],
            [
             0.1111111111111111,
             "#46039f"
            ],
            [
             0.2222222222222222,
             "#7201a8"
            ],
            [
             0.3333333333333333,
             "#9c179e"
            ],
            [
             0.4444444444444444,
             "#bd3786"
            ],
            [
             0.5555555555555556,
             "#d8576b"
            ],
            [
             0.6666666666666666,
             "#ed7953"
            ],
            [
             0.7777777777777778,
             "#fb9f3a"
            ],
            [
             0.8888888888888888,
             "#fdca26"
            ],
            [
             1,
             "#f0f921"
            ]
           ],
           "sequentialminus": [
            [
             0,
             "#0d0887"
            ],
            [
             0.1111111111111111,
             "#46039f"
            ],
            [
             0.2222222222222222,
             "#7201a8"
            ],
            [
             0.3333333333333333,
             "#9c179e"
            ],
            [
             0.4444444444444444,
             "#bd3786"
            ],
            [
             0.5555555555555556,
             "#d8576b"
            ],
            [
             0.6666666666666666,
             "#ed7953"
            ],
            [
             0.7777777777777778,
             "#fb9f3a"
            ],
            [
             0.8888888888888888,
             "#fdca26"
            ],
            [
             1,
             "#f0f921"
            ]
           ]
          },
          "colorway": [
           "#636efa",
           "#EF553B",
           "#00cc96",
           "#ab63fa",
           "#FFA15A",
           "#19d3f3",
           "#FF6692",
           "#B6E880",
           "#FF97FF",
           "#FECB52"
          ],
          "font": {
           "color": "#2a3f5f"
          },
          "geo": {
           "bgcolor": "white",
           "lakecolor": "white",
           "landcolor": "#E5ECF6",
           "showlakes": true,
           "showland": true,
           "subunitcolor": "white"
          },
          "hoverlabel": {
           "align": "left"
          },
          "hovermode": "closest",
          "mapbox": {
           "style": "light"
          },
          "paper_bgcolor": "white",
          "plot_bgcolor": "#E5ECF6",
          "polar": {
           "angularaxis": {
            "gridcolor": "white",
            "linecolor": "white",
            "ticks": ""
           },
           "bgcolor": "#E5ECF6",
           "radialaxis": {
            "gridcolor": "white",
            "linecolor": "white",
            "ticks": ""
           }
          },
          "scene": {
           "xaxis": {
            "backgroundcolor": "#E5ECF6",
            "gridcolor": "white",
            "gridwidth": 2,
            "linecolor": "white",
            "showbackground": true,
            "ticks": "",
            "zerolinecolor": "white"
           },
           "yaxis": {
            "backgroundcolor": "#E5ECF6",
            "gridcolor": "white",
            "gridwidth": 2,
            "linecolor": "white",
            "showbackground": true,
            "ticks": "",
            "zerolinecolor": "white"
           },
           "zaxis": {
            "backgroundcolor": "#E5ECF6",
            "gridcolor": "white",
            "gridwidth": 2,
            "linecolor": "white",
            "showbackground": true,
            "ticks": "",
            "zerolinecolor": "white"
           }
          },
          "shapedefaults": {
           "line": {
            "color": "#2a3f5f"
           }
          },
          "ternary": {
           "aaxis": {
            "gridcolor": "white",
            "linecolor": "white",
            "ticks": ""
           },
           "baxis": {
            "gridcolor": "white",
            "linecolor": "white",
            "ticks": ""
           },
           "bgcolor": "#E5ECF6",
           "caxis": {
            "gridcolor": "white",
            "linecolor": "white",
            "ticks": ""
           }
          },
          "title": {
           "x": 0.05
          },
          "xaxis": {
           "automargin": true,
           "gridcolor": "white",
           "linecolor": "white",
           "ticks": "",
           "title": {
            "standoff": 15
           },
           "zerolinecolor": "white",
           "zerolinewidth": 2
          },
          "yaxis": {
           "automargin": true,
           "gridcolor": "white",
           "linecolor": "white",
           "ticks": "",
           "title": {
            "standoff": 15
           },
           "zerolinecolor": "white",
           "zerolinewidth": 2
          }
         }
        },
        "xaxis": {
         "anchor": "y",
         "autorange": true,
         "domain": [
          0,
          1
         ],
         "range": [
          -130.61837009816756,
          3539.4874462566
         ],
         "title": {
          "text": "Cumulative Days"
         },
         "type": "linear"
        },
        "yaxis": {
         "anchor": "x",
         "autorange": true,
         "domain": [
          0,
          1
         ],
         "range": [
          -3.8939960425955515,
          53.53403252738332
         ],
         "title": {
          "text": "Failure Number"
         },
         "type": "linear"
        }
       }
      },
      "image/png": "[encoded data removed]",
      "text/html": [
       "<div>                            <div id=\"eecc87df-d7cf-4fa0-a27f-fef081ffa8b6\" class=\"plotly-graph-div\" style=\"height:400px; width:100%;\"></div>            <script type=\"text/javascript\">                require([\"plotly\"], function(Plotly) {                    window.PLOTLYENV=window.PLOTLYENV || {};                                    if (document.getElementById(\"eecc87df-d7cf-4fa0-a27f-fef081ffa8b6\")) {                    Plotly.newPlot(                        \"eecc87df-d7cf-4fa0-a27f-fef081ffa8b6\",                        [{\"hovertemplate\":\"Peak=False<br>Cumulative Days=%{x}<br>Failure Number=%{y}<br>Klbs=%{marker.size}<extra></extra>\",\"legendgroup\":\"False\",\"marker\":{\"color\":\"#636efa\",\"size\":[10956.16,50958.9,14608.22,15967.12,11975.34,1698.63,16731.51,20876.71,15032.88,3312.33,8219.18,13972.6,1972.6,7134.25,9767.12,18600.0,7643.84,4756.16,7397.26,50534.25,15202.74,14608.22,12394.52,14693.15,11095.89,12986.3,55460.27,14947.95,44383.56,20712.33,53506.85,1189.04,29980.82,2369.59,27178.08,68030.14,7219.18,21063.01,12060.27,11380.82,4602.74,4671.23,3698.63,7813.7,0.0,0.0],\"sizemode\":\"area\",\"sizeref\":170.07535,\"symbol\":\"circle\"},\"mode\":\"markers\",\"name\":\"False\",\"orientation\":\"v\",\"showlegend\":true,\"x\":[74,135,196,288,380,395,500,531,592,804,821,835,850,865,912,926,943,957,974,1110,1322,1444,1506,1535,1566,1596,1657,1688,1705,1719,1749,1900,1961,1992,2084,2114,2540,2752,2769,2783,2814,3027,3057,3302,3333,3346],\"xaxis\":\"x\",\"y\":[1,2,3,4,5,6,7,8,9,11,12,13,14,15,16,17,18,19,20,22,23,25,26,27,28,29,30,31,32,33,34,36,37,38,39,40,41,42,43,44,45,46,47,48,49,50],\"yaxis\":\"y\",\"type\":\"scatter\"},{\"hovertemplate\":\"Peak=True<br>Cumulative Days=%{x}<br>Failure Number=%{y}<br>Klbs=%{marker.size}<extra></extra>\",\"legendgroup\":\"True\",\"marker\":{\"color\":\"#EF553B\",\"size\":[5945.21,8301.37,13561.64,14712.33],\"sizemode\":\"area\",\"sizeref\":170.07535,\"symbol\":\"circle\"},\"mode\":\"markers\",\"name\":\"True\",\"orientation\":\"v\",\"showlegend\":true,\"x\":[745,988,1414,1780],\"xaxis\":\"x\",\"y\":[10,21,24,35],\"yaxis\":\"y\",\"type\":\"scatter\"},{\"mode\":\"lines\",\"name\":\"slope: 0.015\",\"x\":[74.0,84.57142857142857,95.14285714285714,105.71428571428572,116.28571428571428,126.85714285714286,137.42857142857144,148.0,158.57142857142856,169.14285714285714,179.71428571428572,190.28571428571428,200.85714285714286,211.42857142857142,222.0,232.57142857142856,243.14285714285714,253.71428571428572,264.2857142857143,274.8571428571429,285.42857142857144,296.0,306.57142857142856,317.1428571428571,327.7142857142857,338.2857142857143,348.85714285714283,359.42857142857144,370.0,380.57142857142856,391.1428571428571,401.7142857142857,412.2857142857143,422.85714285714283,433.42857142857144,444.0,454.57142857142856,465.1428571428571,475.7142857142857,486.2857142857143,496.85714285714283,507.42857142857144,518.0,528.5714285714286,539.1428571428571,549.7142857142858,560.2857142857142,570.8571428571429,581.4285714285714,592.0],\"y\":[0.9784293830660886,1.1362123598482967,1.293995336630505,1.4517783134127134,1.6095612901949214,1.7673442669771298,1.9251272437593383,2.0829102205415464,2.240693197323754,2.3984761741059626,2.556259150888171,2.7140421276703792,2.8718251044525878,3.0296080812347954,3.187391058017004,3.345174034799212,3.5029570115814206,3.6607399883636287,3.818522965145837,3.9763059419280458,4.134088918710254,4.291871895492462,4.44965487227467,4.607437849056877,4.765220825839086,4.923003802621294,5.080786779403502,5.238569756185711,5.3963527329679195,5.554135709750128,5.711918686532336,5.869701663314545,6.027484640096752,6.18526761687896,6.343050593661169,6.500833570443377,6.658616547225585,6.816399524007793,6.974182500790002,7.13196547757221,7.2897484543544175,7.4475314311366265,7.605314407918835,7.763097384701043,7.920880361483251,8.07866333826546,8.236446315047667,8.394229291829877,8.552012268612085,8.709795245394293],\"type\":\"scatter\"},{\"mode\":\"lines\",\"name\":\"slope: 0.045\",\"x\":[745.0,749.6734693877551,754.3469387755102,759.0204081632653,763.6938775510204,768.3673469387755,773.0408163265306,777.7142857142857,782.3877551020408,787.0612244897959,791.734693877551,796.4081632653061,801.0816326530612,805.7551020408164,810.4285714285714,815.1020408163265,819.7755102040817,824.4489795918367,829.1224489795918,833.795918367347,838.469387755102,843.1428571428571,847.8163265306123,852.4897959183673,857.1632653061224,861.8367346938776,866.5102040816327,871.1836734693877,875.8571428571429,880.530612244898,885.204081632653,889.8775510204082,894.5510204081633,899.2244897959183,903.8979591836735,908.5714285714286,913.2448979591836,917.9183673469388,922.5918367346939,927.2653061224489,931.9387755102041,936.6122448979592,941.2857142857142,945.9591836734694,950.6326530612245,955.3061224489795,959.9795918367347,964.6530612244898,969.3265306122448,974.0],\"y\":[9.087252417159483,9.298778856328035,9.510305295496593,9.721831734665145,9.933358173833689,10.144884613002247,10.356411052170799,10.56793749133935,10.779463930507902,10.990990369676453,11.202516808845004,11.414043248013556,11.625569687182107,11.837096126350666,12.048622565519217,12.260149004687761,12.47167544385632,12.683201883024871,12.894728322193423,13.106254761361974,13.317781200530526,13.529307639699077,13.740834078867628,13.95236051803618,14.163886957204731,14.37541339637329,14.586939835541834,14.798466274710385,15.009992713878944,15.221519153047495,15.43304559221604,15.644572031384598,15.85609847055315,16.0676249097217,16.279151348890252,16.490677788058804,16.702204227227355,16.913730666395907,17.125257105564458,17.33678354473301,17.548309983901568,17.759836423070112,17.971362862238664,18.182889301407222,18.394415740575774,18.605942179744325,18.817468618912876,19.028995058081428,19.24052149724998,19.45204793641853],\"type\":\"scatter\"},{\"mode\":\"lines\",\"name\":\"slope: 0.006\",\"x\":[988.0,994.8163265306123,1001.6326530612245,1008.4489795918367,1015.265306122449,1022.0816326530612,1028.8979591836735,1035.7142857142858,1042.530612244898,1049.3469387755101,1056.1632653061224,1062.9795918367347,1069.795918367347,1076.6122448979593,1083.4285714285713,1090.2448979591836,1097.061224489796,1103.8775510204082,1110.6938775510205,1117.5102040816328,1124.3265306122448,1131.142857142857,1137.9591836734694,1144.7755102040817,1151.591836734694,1158.408163265306,1165.2244897959183,1172.0408163265306,1178.857142857143,1185.6734693877552,1192.4897959183672,1199.3061224489795,1206.1224489795918,1212.938775510204,1219.7551020408164,1226.5714285714287,1233.3877551020407,1240.204081632653,1247.0204081632653,1253.8367346938776,1260.6530612244899,1267.4693877551022,1274.2857142857142,1281.1020408163265,1287.9183673469388,1294.734693877551,1301.5510204081634,1308.3673469387754,1315.1836734693877,1322.0],\"y\":[21.111328945525837,21.151180735562676,21.191032525599514,21.230884315636352,21.27073610567319,21.31058789571003,21.350439685746863,21.390291475783705,21.430143265820544,21.469995055857378,21.509846845894216,21.54969863593106,21.589550425967893,21.629402216004735,21.66925400604157,21.709105796078408,21.748957586115246,21.788809376152084,21.828661166188922,21.86851295622576,21.9083647462626,21.948216536299437,21.988068326336276,22.027920116373114,22.067771906409952,22.10762369644679,22.14747548648363,22.187327276520467,22.227179066557305,22.267030856594143,22.30688264663098,22.34673443666782,22.386586226704658,22.426438016741496,22.466289806778335,22.506141596815173,22.54599338685201,22.585845176888846,22.625696966925688,22.665548756962522,22.705400546999364,22.745252337036202,22.785104127073037,22.824955917109875,22.864807707146717,22.90465949718355,22.944511287220394,22.98436307725723,23.024214867294067,23.064066657330905],\"type\":\"scatter\"},{\"mode\":\"lines\",\"name\":\"slope: 0.029\",\"x\":[1414.0,1420.8367346938776,1427.6734693877552,1434.5102040816328,1441.3469387755101,1448.1836734693877,1455.0204081632653,1461.857142857143,1468.6938775510205,1475.530612244898,1482.3673469387754,1489.204081632653,1496.0408163265306,1502.8775510204082,1509.7142857142858,1516.5510204081634,1523.3877551020407,1530.2244897959183,1537.061224489796,1543.8979591836735,1550.734693877551,1557.5714285714284,1564.408163265306,1571.2448979591836,1578.0816326530612,1584.9183673469388,1591.7551020408164,1598.591836734694,1605.4285714285713,1612.265306122449,1619.1020408163265,1625.938775510204,1632.7755102040817,1639.6122448979593,1646.4489795918366,1653.2857142857142,1660.1224489795918,1666.9591836734694,1673.795918367347,1680.6326530612246,1687.4693877551022,1694.3061224489795,1701.142857142857,1707.9795918367347,1714.8163265306123,1721.6530612244896,1728.4897959183672,1735.3265306122448,1742.1632653061224,1749.0],\"y\":[23.723857526231313,23.919801945640103,24.1157463650489,24.311690784457696,24.507635203866485,24.70357962327528,24.899524042684078,25.095468462092875,25.29141288150167,25.48735730091046,25.68330172031925,25.879246139728046,26.075190559136843,26.27113497854564,26.467079397954436,26.663023817363232,26.85896823677202,27.054912656180818,27.250857075589607,27.446801494998404,27.6427459144072,27.83869033381599,28.034634753224786,28.230579172633583,28.42652359204238,28.622468011451176,28.818412430859965,29.01435685026876,29.21030126967755,29.406245689086347,29.602190108495144,29.79813452790394,29.994078947312737,30.190023366721533,30.385967786130323,30.58191220553912,30.77785662494791,30.973801044356705,31.1697454637655,31.365689883174298,31.561634302583094,31.757578721991884,31.95352314140068,32.14946756080948,32.345411980218266,32.541356399627055,32.73730081903585,32.93324523844465,33.129189657853445,33.32513407726224],\"type\":\"scatter\"},{\"mode\":\"lines\",\"name\":\"slope: 0.008\",\"x\":[1780.0,1811.9591836734694,1843.9183673469388,1875.8775510204082,1907.8367346938776,1939.795918367347,1971.7551020408164,2003.7142857142858,2035.6734693877552,2067.6326530612246,2099.591836734694,2131.5510204081634,2163.5102040816328,2195.469387755102,2227.4285714285716,2259.387755102041,2291.3469387755104,2323.3061224489793,2355.265306122449,2387.224489795918,2419.183673469388,2451.142857142857,2483.1020408163267,2515.0612244897957,2547.0204081632655,2578.9795918367345,2610.9387755102043,2642.8979591836733,2674.8571428571427,2706.816326530612,2738.7755102040815,2770.734693877551,2802.6938775510203,2834.6530612244896,2866.612244897959,2898.5714285714284,2930.530612244898,2962.4897959183672,2994.4489795918366,3026.408163265306,3058.3673469387754,3090.326530612245,3122.285714285714,3154.2448979591836,3186.204081632653,3218.1632653061224,3250.122448979592,3282.081632653061,3314.0408163265306,3346.0],\"y\":[35.566430538205275,35.83761453079179,36.108798523378304,36.37998251596482,36.651166508551334,36.92235050113785,37.193534493724364,37.46471848631088,37.735902478897394,38.00708647148391,38.278270464070424,38.54945445665694,38.820638449243454,39.09182244182997,39.363006434416484,39.634190427003,39.90537441958951,40.17655841217602,40.44774240476254,40.71892639734905,40.99011038993557,41.26129438252208,41.5324783751086,41.80366236769511,42.07484636028163,42.34603035286814,42.61721434545466,42.88839833804117,43.159582330627686,43.4307663232142,43.701950315800715,43.97313430838723,44.244318300973745,44.51550229356026,44.786686286146775,45.05787027873329,45.329054271319805,45.60023826390632,45.871422256492835,46.14260624907935,46.413790241665865,46.68497423425238,46.956158226838895,47.22734221942541,47.498526212011924,47.76971020459844,48.040894197184954,48.31207818977147,48.583262182357984,48.8544461749445],\"type\":\"scatter\"}],                        {\"template\":{\"data\":{\"bar\":[{\"error_x\":{\"color\":\"#2a3f5f\"},\"error_y\":{\"color\":\"#2a3f5f\"},\"marker\":{\"line\":{\"color\":\"#E5ECF6\",\"width\":0.5},\"pattern\":{\"fillmode\":\"overlay\",\"size\":10,\"solidity\":0.2}},\"type\":\"bar\"}],\"barpolar\":[{\"marker\":{\"line\":{\"color\":\"#E5ECF6\",\"width\":0.5},\"pattern\":{\"fillmode\":\"overlay\",\"size\":10,\"solidity\":0.2}},\"type\":\"barpolar\"}],\"carpet\":[{\"aaxis\":{\"endlinecolor\":\"#2a3f5f\",\"gridcolor\":\"white\",\"linecolor\":\"white\",\"minorgridcolor\":\"white\",\"startlinecolor\":\"#2a3f5f\"},\"baxis\":{\"endlinecolor\":\"#2a3f5f\",\"gridcolor\":\"white\",\"linecolor\":\"white\",\"minorgridcolor\":\"white\",\"startlinecolor\":\"#2a3f5f\"},\"type\":\"carpet\"}],\"choropleth\":[{\"colorbar\":{\"outlinewidth\":0,\"ticks\":\"\"},\"type\":\"choropleth\"}],\"contour\":[{\"colorbar\":{\"outlinewidth\":0,\"ticks\":\"\"},\"colorscale\":[[0.0,\"#0d0887\"],[0.1111111111111111,\"#46039f\"],[0.2222222222222222,\"#7201a8\"],[0.3333333333333333,\"#9c179e\"],[0.4444444444444444,\"#bd3786\"],[0.5555555555555556,\"#d8576b\"],[0.6666666666666666,\"#ed7953\"],[0.7777777777777778,\"#fb9f3a\"],[0.8888888888888888,\"#fdca26\"],[1.0,\"#f0f921\"]],\"type\":\"contour\"}],\"contourcarpet\":[{\"colorbar\":{\"outlinewidth\":0,\"ticks\":\"\"},\"type\":\"contourcarpet\"}],\"heatmap\":[{\"colorbar\":{\"outlinewidth\":0,\"ticks\":\"\"},\"colorscale\":[[0.0,\"#0d0887\"],[0.1111111111111111,\"#46039f\"],[0.2222222222222222,\"#7201a8\"],[0.3333333333333333,\"#9c179e\"],[0.4444444444444444,\"#bd3786\"],[0.5555555555555556,\"#d8576b\"],[0.6666666666666666,\"#ed7953\"],[0.7777777777777778,\"#fb9f3a\"],[0.8888888888888888,\"#fdca26\"],[1.0,\"#f0f921\"]],\"type\":\"heatmap\"}],\"heatmapgl\":[{\"colorbar\":{\"outlinewidth\":0,\"ticks\":\"\"},\"colorscale\":[[0.0,\"#0d0887\"],[0.1111111111111111,\"#46039f\"],[0.2222222222222222,\"#7201a8\"],[0.3333333333333333,\"#9c179e\"],[0.4444444444444444,\"#bd3786\"],[0.5555555555555556,\"#d8576b\"],[0.6666666666666666,\"#ed7953\"],[0.7777777777777778,\"#fb9f3a\"],[0.8888888888888888,\"#fdca26\"],[1.0,\"#f0f921\"]],\"type\":\"heatmapgl\"}],\"histogram\":[{\"marker\":{\"pattern\":{\"fillmode\":\"overlay\",\"size\":10,\"solidity\":0.2}},\"type\":\"histogram\"}],\"histogram2d\":[{\"colorbar\":{\"outlinewidth\":0,\"ticks\":\"\"},\"colorscale\":[[0.0,\"#0d0887\"],[0.1111111111111111,\"#46039f\"],[0.2222222222222222,\"#7201a8\"],[0.3333333333333333,\"#9c179e\"],[0.4444444444444444,\"#bd3786\"],[0.5555555555555556,\"#d8576b\"],[0.6666666666666666,\"#ed7953\"],[0.7777777777777778,\"#fb9f3a\"],[0.8888888888888888,\"#fdca26\"],[1.0,\"#f0f921\"]],\"type\":\"histogram2d\"}],\"histogram2dcontour\":[{\"colorbar\":{\"outlinewidth\":0,\"ticks\":\"\"},\"colorscale\":[[0.0,\"#0d0887\"],[0.1111111111111111,\"#46039f\"],[0.2222222222222222,\"#7201a8\"],[0.3333333333333333,\"#9c179e\"],[0.4444444444444444,\"#bd3786\"],[0.5555555555555556,\"#d8576b\"],[0.6666666666666666,\"#ed7953\"],[0.7777777777777778,\"#fb9f3a\"],[0.8888888888888888,\"#fdca26\"],[1.0,\"#f0f921\"]],\"type\":\"histogram2dcontour\"}],\"mesh3d\":[{\"colorbar\":{\"outlinewidth\":0,\"ticks\":\"\"},\"type\":\"mesh3d\"}],\"parcoords\":[{\"line\":{\"colorbar\":{\"outlinewidth\":0,\"ticks\":\"\"}},\"type\":\"parcoords\"}],\"pie\":[{\"automargin\":true,\"type\":\"pie\"}],\"scatter\":[{\"marker\":{\"colorbar\":{\"outlinewidth\":0,\"ticks\":\"\"}},\"type\":\"scatter\"}],\"scatter3d\":[{\"line\":{\"colorbar\":{\"outlinewidth\":0,\"ticks\":\"\"}},\"marker\":{\"colorbar\":{\"outlinewidth\":0,\"ticks\":\"\"}},\"type\":\"scatter3d\"}],\"scattercarpet\":[{\"marker\":{\"colorbar\":{\"outlinewidth\":0,\"ticks\":\"\"}},\"type\":\"scattercarpet\"}],\"scattergeo\":[{\"marker\":{\"colorbar\":{\"outlinewidth\":0,\"ticks\":\"\"}},\"type\":\"scattergeo\"}],\"scattergl\":[{\"marker\":{\"colorbar\":{\"outlinewidth\":0,\"ticks\":\"\"}},\"type\":\"scattergl\"}],\"scattermapbox\":[{\"marker\":{\"colorbar\":{\"outlinewidth\":0,\"ticks\":\"\"}},\"type\":\"scattermapbox\"}],\"scatterpolar\":[{\"marker\":{\"colorbar\":{\"outlinewidth\":0,\"ticks\":\"\"}},\"type\":\"scatterpolar\"}],\"scatterpolargl\":[{\"marker\":{\"colorbar\":{\"outlinewidth\":0,\"ticks\":\"\"}},\"type\":\"scatterpolargl\"}],\"scatterternary\":[{\"marker\":{\"colorbar\":{\"outlinewidth\":0,\"ticks\":\"\"}},\"type\":\"scatterternary\"}],\"surface\":[{\"colorbar\":{\"outlinewidth\":0,\"ticks\":\"\"},\"colorscale\":[[0.0,\"#0d0887\"],[0.1111111111111111,\"#46039f\"],[0.2222222222222222,\"#7201a8\"],[0.3333333333333333,\"#9c179e\"],[0.4444444444444444,\"#bd3786\"],[0.5555555555555556,\"#d8576b\"],[0.6666666666666666,\"#ed7953\"],[0.7777777777777778,\"#fb9f3a\"],[0.8888888888888888,\"#fdca26\"],[1.0,\"#f0f921\"]],\"type\":\"surface\"}],\"table\":[{\"cells\":{\"fill\":{\"color\":\"#EBF0F8\"},\"line\":{\"color\":\"white\"}},\"header\":{\"fill\":{\"color\":\"#C8D4E3\"},\"line\":{\"color\":\"white\"}},\"type\":\"table\"}]},\"layout\":{\"annotationdefaults\":{\"arrowcolor\":\"#2a3f5f\",\"arrowhead\":0,\"arrowwidth\":1},\"autotypenumbers\":\"strict\",\"coloraxis\":{\"colorbar\":{\"outlinewidth\":0,\"ticks\":\"\"}},\"colorscale\":{\"diverging\":[[0,\"#8e0152\"],[0.1,\"#c51b7d\"],[0.2,\"#de77ae\"],[0.3,\"#f1b6da\"],[0.4,\"#fde0ef\"],[0.5,\"#f7f7f7\"],[0.6,\"#e6f5d0\"],[0.7,\"#b8e186\"],[0.8,\"#7fbc41\"],[0.9,\"#4d9221\"],[1,\"#276419\"]],\"sequential\":[[0.0,\"#0d0887\"],[0.1111111111111111,\"#46039f\"],[0.2222222222222222,\"#7201a8\"],[0.3333333333333333,\"#9c179e\"],[0.4444444444444444,\"#bd3786\"],[0.5555555555555556,\"#d8576b\"],[0.6666666666666666,\"#ed7953\"],[0.7777777777777778,\"#fb9f3a\"],[0.8888888888888888,\"#fdca26\"],[1.0,\"#f0f921\"]],\"sequentialminus\":[[0.0,\"#0d0887\"],[0.1111111111111111,\"#46039f\"],[0.2222222222222222,\"#7201a8\"],[0.3333333333333333,\"#9c179e\"],[0.4444444444444444,\"#bd3786\"],[0.5555555555555556,\"#d8576b\"],[0.6666666666666666,\"#ed7953\"],[0.7777777777777778,\"#fb9f3a\"],[0.8888888888888888,\"#fdca26\"],[1.0,\"#f0f921\"]]},\"colorway\":[\"#636efa\",\"#EF553B\",\"#00cc96\",\"#ab63fa\",\"#FFA15A\",\"#19d3f3\",\"#FF6692\",\"#B6E880\",\"#FF97FF\",\"#FECB52\"],\"font\":{\"color\":\"#2a3f5f\"},\"geo\":{\"bgcolor\":\"white\",\"lakecolor\":\"white\",\"landcolor\":\"#E5ECF6\",\"showlakes\":true,\"showland\":true,\"subunitcolor\":\"white\"},\"hoverlabel\":{\"align\":\"left\"},\"hovermode\":\"closest\",\"mapbox\":{\"style\":\"light\"},\"paper_bgcolor\":\"white\",\"plot_bgcolor\":\"#E5ECF6\",\"polar\":{\"angularaxis\":{\"gridcolor\":\"white\",\"linecolor\":\"white\",\"ticks\":\"\"},\"bgcolor\":\"#E5ECF6\",\"radialaxis\":{\"gridcolor\":\"white\",\"linecolor\":\"white\",\"ticks\":\"\"}},\"scene\":{\"xaxis\":{\"backgroundcolor\":\"#E5ECF6\",\"gridcolor\":\"white\",\"gridwidth\":2,\"linecolor\":\"white\",\"showbackground\":true,\"ticks\":\"\",\"zerolinecolor\":\"white\"},\"yaxis\":{\"backgroundcolor\":\"#E5ECF6\",\"gridcolor\":\"white\",\"gridwidth\":2,\"linecolor\":\"white\",\"showbackground\":true,\"ticks\":\"\",\"zerolinecolor\":\"white\"},\"zaxis\":{\"backgroundcolor\":\"#E5ECF6\",\"gridcolor\":\"white\",\"gridwidth\":2,\"linecolor\":\"white\",\"showbackground\":true,\"ticks\":\"\",\"zerolinecolor\":\"white\"}},\"shapedefaults\":{\"line\":{\"color\":\"#2a3f5f\"}},\"ternary\":{\"aaxis\":{\"gridcolor\":\"white\",\"linecolor\":\"white\",\"ticks\":\"\"},\"baxis\":{\"gridcolor\":\"white\",\"linecolor\":\"white\",\"ticks\":\"\"},\"bgcolor\":\"#E5ECF6\",\"caxis\":{\"gridcolor\":\"white\",\"linecolor\":\"white\",\"ticks\":\"\"}},\"title\":{\"x\":0.05},\"xaxis\":{\"automargin\":true,\"gridcolor\":\"white\",\"linecolor\":\"white\",\"ticks\":\"\",\"title\":{\"standoff\":15},\"zerolinecolor\":\"white\",\"zerolinewidth\":2},\"yaxis\":{\"automargin\":true,\"gridcolor\":\"white\",\"linecolor\":\"white\",\"ticks\":\"\",\"title\":{\"standoff\":15},\"zerolinecolor\":\"white\",\"zerolinewidth\":2}}},\"xaxis\":{\"anchor\":\"y\",\"domain\":[0.0,1.0],\"title\":{\"text\":\"Cumulative Days\"}},\"yaxis\":{\"anchor\":\"x\",\"domain\":[0.0,1.0],\"title\":{\"text\":\"Failure Number\"}},\"legend\":{\"title\":{\"text\":\"Peak\"},\"tracegroupgap\":0,\"itemsizing\":\"constant\"},\"margin\":{\"t\":60},\"height\":400},                        {\"responsive\": true}                    ).then(function(){\n",
       "                            \n",
       "var gd = document.getElementById('eecc87df-d7cf-4fa0-a27f-fef081ffa8b6');\n",
       "var x = new MutationObserver(function (mutations, observer) {{\n",
       "        var display = window.getComputedStyle(gd).display;\n",
       "        if (!display || display === 'none') {{\n",
       "            console.log([gd, 'removed!']);\n",
       "            Plotly.purge(gd);\n",
       "            observer.disconnect();\n",
       "        }}\n",
       "}});\n",
       "\n",
       "// Listen for the removal of the full notebook cells\n",
       "var notebookContainer = gd.closest('#notebook-container');\n",
       "if (notebookContainer) {{\n",
       "    x.observe(notebookContainer, {childList: true});\n",
       "}}\n",
       "\n",
       "// Listen for the clearing of the current output cell\n",
       "var outputEl = gd.closest('.output');\n",
       "if (outputEl) {{\n",
       "    x.observe(outputEl, {childList: true});\n",
       "}}\n",
       "\n",
       "                        })                };                });            </script>        </div>"
      ]
     },
     "metadata": {},
     "output_type": "display_data"
    }
   ],
   "source": [
    "fig.show()"
   ]
  },
  {
   "cell_type": "code",
   "execution_count": 4,
   "id": "c2d077bc-a4be-491c-86fe-f51ce82885b7",
   "metadata": {},
   "outputs": [],
   "source": [
    "def update_plot(site, reason):\n",
    "    result = make_crow_data(site, reason)\n",
    "    TTF = predict_next_fail(*result.loc[result.shape[0]-1, \n",
    "                        ['Failure Number', 'Cumulative Days', 'Beta']].values)\n",
    "    next_fail = result.iloc[-1,0] + timedelta(days=TTF)\n",
    "    result.Date = pd.DatetimeIndex(result.Date).strftime(\"%Y-%m-%d\")\n",
    "    return [make_scatter(result, 'Beta', False),\n",
    "            make_scatter(result, 'Failure Number', False),\n",
    "           result.to_dict('records'),\n",
    "           f\"Next Failure: {next_fail.date()}\"]"
   ]
  },
  {
   "cell_type": "code",
   "execution_count": 5,
   "id": "67c852d1-423c-4e03-9317-9b69dea13d79",
   "metadata": {},
   "outputs": [],
   "source": [
    "plots = update_plot('CHB', 'All')"
   ]
  },
  {
   "cell_type": "code",
   "execution_count": 64,
   "id": "17a1a148-31b5-470f-b325-6978fc98d666",
   "metadata": {},
   "outputs": [
    {
     "data": {
      "application/vnd.plotly.v1+json": {
       "config": {
        "plotlyServerURL": "https://plot.ly"
       },
       "data": [
        {
         "hovertemplate": "Equipment/Process=Process<br>Cumulative Days=%{x}<br>Failure Number=%{y}<br>Klbs=%{marker.size}<extra></extra>",
         "legendgroup": "Process",
         "marker": {
          "color": "#636efa",
          "size": [
           10956.16,
           11975.34,
           3312.33,
           8219.18,
           13972.6,
           1972.6,
           18600,
           7643.84,
           8301.37,
           50534.25,
           15202.74,
           13561.64,
           14608.22,
           12394.52,
           14693.15,
           12986.3,
           14947.95,
           44383.56,
           20712.33,
           1189.04,
           27178.08,
           7219.18
          ],
          "sizemode": "area",
          "sizeref": 170.07535,
          "symbol": "circle"
         },
         "mode": "markers",
         "name": "Process",
         "orientation": "v",
         "showlegend": true,
         "type": "scatter",
         "x": [
          74,
          380,
          804,
          821,
          835,
          850,
          926,
          943,
          988,
          1110,
          1322,
          1414,
          1444,
          1506,
          1535,
          1596,
          1688,
          1705,
          1719,
          1900,
          2084,
          2540
         ],
         "xaxis": "x",
         "y": [
          1,
          5,
          11,
          12,
          13,
          14,
          17,
          18,
          21,
          22,
          23,
          24,
          25,
          26,
          27,
          29,
          31,
          32,
          33,
          36,
          39,
          41
         ],
         "yaxis": "y"
        },
        {
         "hovertemplate": "Equipment/Process=Equipment<br>Cumulative Days=%{x}<br>Failure Number=%{y}<br>Klbs=%{marker.size}<extra></extra>",
         "legendgroup": "Equipment",
         "marker": {
          "color": "#EF553B",
          "size": [
           50958.9,
           14608.22,
           15967.12,
           1698.63,
           16731.51,
           20876.71,
           15032.88,
           5945.21,
           7134.25,
           9767.12,
           4756.16,
           7397.26,
           55460.27,
           53506.85,
           14712.33,
           29980.82,
           2369.59,
           68030.14,
           21063.01,
           12060.27,
           11380.82,
           4602.74,
           4671.23
          ],
          "sizemode": "area",
          "sizeref": 170.07535,
          "symbol": "circle"
         },
         "mode": "markers",
         "name": "Equipment",
         "orientation": "v",
         "showlegend": true,
         "type": "scatter",
         "x": [
          135,
          196,
          288,
          395,
          500,
          531,
          592,
          745,
          865,
          912,
          957,
          974,
          1657,
          1749,
          1780,
          1961,
          1992,
          2114,
          2752,
          2769,
          2783,
          2814,
          3027
         ],
         "xaxis": "x",
         "y": [
          2,
          3,
          4,
          6,
          7,
          8,
          9,
          10,
          15,
          16,
          19,
          20,
          30,
          34,
          35,
          37,
          38,
          40,
          42,
          43,
          44,
          45,
          46
         ],
         "yaxis": "y"
        },
        {
         "hovertemplate": "Equipment/Process=Equipment (Design)<br>Cumulative Days=%{x}<br>Failure Number=%{y}<br>Klbs=%{marker.size}<extra></extra>",
         "legendgroup": "Equipment (Design)",
         "marker": {
          "color": "#00cc96",
          "size": [
           11095.89
          ],
          "sizemode": "area",
          "sizeref": 170.07535,
          "symbol": "circle"
         },
         "mode": "markers",
         "name": "Equipment (Design)",
         "orientation": "v",
         "showlegend": true,
         "type": "scatter",
         "x": [
          1566
         ],
         "xaxis": "x",
         "y": [
          28
         ],
         "yaxis": "y"
        },
        {
         "hovertemplate": "Equipment/Process=Outside<br>Cumulative Days=%{x}<br>Failure Number=%{y}<br>Klbs=%{marker.size}<extra></extra>",
         "legendgroup": "Outside",
         "marker": {
          "color": "#ab63fa",
          "size": [
           3698.63
          ],
          "sizemode": "area",
          "sizeref": 170.07535,
          "symbol": "circle"
         },
         "mode": "markers",
         "name": "Outside",
         "orientation": "v",
         "showlegend": true,
         "type": "scatter",
         "x": [
          3057
         ],
         "xaxis": "x",
         "y": [
          47
         ],
         "yaxis": "y"
        },
        {
         "hovertemplate": "Equipment/Process=None<br>Cumulative Days=%{x}<br>Failure Number=%{y}<br>Klbs=%{marker.size}<extra></extra>",
         "legendgroup": "None",
         "marker": {
          "color": "#FFA15A",
          "size": [
           7813.7,
           0,
           0
          ],
          "sizemode": "area",
          "sizeref": 170.07535,
          "symbol": "circle"
         },
         "mode": "markers",
         "name": "None",
         "orientation": "v",
         "showlegend": true,
         "type": "scatter",
         "x": [
          3302,
          3333,
          3346
         ],
         "xaxis": "x",
         "y": [
          48,
          49,
          50
         ],
         "yaxis": "y"
        }
       ],
       "layout": {
        "autosize": true,
        "legend": {
         "itemsizing": "constant",
         "title": {
          "text": "Equipment/Process"
         },
         "tracegroupgap": 0
        },
        "margin": {
         "t": 60
        },
        "template": {
         "data": {
          "bar": [
           {
            "error_x": {
             "color": "#2a3f5f"
            },
            "error_y": {
             "color": "#2a3f5f"
            },
            "marker": {
             "line": {
              "color": "#E5ECF6",
              "width": 0.5
             },
             "pattern": {
              "fillmode": "overlay",
              "size": 10,
              "solidity": 0.2
             }
            },
            "type": "bar"
           }
          ],
          "barpolar": [
           {
            "marker": {
             "line": {
              "color": "#E5ECF6",
              "width": 0.5
             },
             "pattern": {
              "fillmode": "overlay",
              "size": 10,
              "solidity": 0.2
             }
            },
            "type": "barpolar"
           }
          ],
          "carpet": [
           {
            "aaxis": {
             "endlinecolor": "#2a3f5f",
             "gridcolor": "white",
             "linecolor": "white",
             "minorgridcolor": "white",
             "startlinecolor": "#2a3f5f"
            },
            "baxis": {
             "endlinecolor": "#2a3f5f",
             "gridcolor": "white",
             "linecolor": "white",
             "minorgridcolor": "white",
             "startlinecolor": "#2a3f5f"
            },
            "type": "carpet"
           }
          ],
          "choropleth": [
           {
            "colorbar": {
             "outlinewidth": 0,
             "ticks": ""
            },
            "type": "choropleth"
           }
          ],
          "contour": [
           {
            "colorbar": {
             "outlinewidth": 0,
             "ticks": ""
            },
            "colorscale": [
             [
              0,
              "#0d0887"
             ],
             [
              0.1111111111111111,
              "#46039f"
             ],
             [
              0.2222222222222222,
              "#7201a8"
             ],
             [
              0.3333333333333333,
              "#9c179e"
             ],
             [
              0.4444444444444444,
              "#bd3786"
             ],
             [
              0.5555555555555556,
              "#d8576b"
             ],
             [
              0.6666666666666666,
              "#ed7953"
             ],
             [
              0.7777777777777778,
              "#fb9f3a"
             ],
             [
              0.8888888888888888,
              "#fdca26"
             ],
             [
              1,
              "#f0f921"
             ]
            ],
            "type": "contour"
           }
          ],
          "contourcarpet": [
           {
            "colorbar": {
             "outlinewidth": 0,
             "ticks": ""
            },
            "type": "contourcarpet"
           }
          ],
          "heatmap": [
           {
            "colorbar": {
             "outlinewidth": 0,
             "ticks": ""
            },
            "colorscale": [
             [
              0,
              "#0d0887"
             ],
             [
              0.1111111111111111,
              "#46039f"
             ],
             [
              0.2222222222222222,
              "#7201a8"
             ],
             [
              0.3333333333333333,
              "#9c179e"
             ],
             [
              0.4444444444444444,
              "#bd3786"
             ],
             [
              0.5555555555555556,
              "#d8576b"
             ],
             [
              0.6666666666666666,
              "#ed7953"
             ],
             [
              0.7777777777777778,
              "#fb9f3a"
             ],
             [
              0.8888888888888888,
              "#fdca26"
             ],
             [
              1,
              "#f0f921"
             ]
            ],
            "type": "heatmap"
           }
          ],
          "heatmapgl": [
           {
            "colorbar": {
             "outlinewidth": 0,
             "ticks": ""
            },
            "colorscale": [
             [
              0,
              "#0d0887"
             ],
             [
              0.1111111111111111,
              "#46039f"
             ],
             [
              0.2222222222222222,
              "#7201a8"
             ],
             [
              0.3333333333333333,
              "#9c179e"
             ],
             [
              0.4444444444444444,
              "#bd3786"
             ],
             [
              0.5555555555555556,
              "#d8576b"
             ],
             [
              0.6666666666666666,
              "#ed7953"
             ],
             [
              0.7777777777777778,
              "#fb9f3a"
             ],
             [
              0.8888888888888888,
              "#fdca26"
             ],
             [
              1,
              "#f0f921"
             ]
            ],
            "type": "heatmapgl"
           }
          ],
          "histogram": [
           {
            "marker": {
             "pattern": {
              "fillmode": "overlay",
              "size": 10,
              "solidity": 0.2
             }
            },
            "type": "histogram"
           }
          ],
          "histogram2d": [
           {
            "colorbar": {
             "outlinewidth": 0,
             "ticks": ""
            },
            "colorscale": [
             [
              0,
              "#0d0887"
             ],
             [
              0.1111111111111111,
              "#46039f"
             ],
             [
              0.2222222222222222,
              "#7201a8"
             ],
             [
              0.3333333333333333,
              "#9c179e"
             ],
             [
              0.4444444444444444,
              "#bd3786"
             ],
             [
              0.5555555555555556,
              "#d8576b"
             ],
             [
              0.6666666666666666,
              "#ed7953"
             ],
             [
              0.7777777777777778,
              "#fb9f3a"
             ],
             [
              0.8888888888888888,
              "#fdca26"
             ],
             [
              1,
              "#f0f921"
             ]
            ],
            "type": "histogram2d"
           }
          ],
          "histogram2dcontour": [
           {
            "colorbar": {
             "outlinewidth": 0,
             "ticks": ""
            },
            "colorscale": [
             [
              0,
              "#0d0887"
             ],
             [
              0.1111111111111111,
              "#46039f"
             ],
             [
              0.2222222222222222,
              "#7201a8"
             ],
             [
              0.3333333333333333,
              "#9c179e"
             ],
             [
              0.4444444444444444,
              "#bd3786"
             ],
             [
              0.5555555555555556,
              "#d8576b"
             ],
             [
              0.6666666666666666,
              "#ed7953"
             ],
             [
              0.7777777777777778,
              "#fb9f3a"
             ],
             [
              0.8888888888888888,
              "#fdca26"
             ],
             [
              1,
              "#f0f921"
             ]
            ],
            "type": "histogram2dcontour"
           }
          ],
          "mesh3d": [
           {
            "colorbar": {
             "outlinewidth": 0,
             "ticks": ""
            },
            "type": "mesh3d"
           }
          ],
          "parcoords": [
           {
            "line": {
             "colorbar": {
              "outlinewidth": 0,
              "ticks": ""
             }
            },
            "type": "parcoords"
           }
          ],
          "pie": [
           {
            "automargin": true,
            "type": "pie"
           }
          ],
          "scatter": [
           {
            "marker": {
             "colorbar": {
              "outlinewidth": 0,
              "ticks": ""
             }
            },
            "type": "scatter"
           }
          ],
          "scatter3d": [
           {
            "line": {
             "colorbar": {
              "outlinewidth": 0,
              "ticks": ""
             }
            },
            "marker": {
             "colorbar": {
              "outlinewidth": 0,
              "ticks": ""
             }
            },
            "type": "scatter3d"
           }
          ],
          "scattercarpet": [
           {
            "marker": {
             "colorbar": {
              "outlinewidth": 0,
              "ticks": ""
             }
            },
            "type": "scattercarpet"
           }
          ],
          "scattergeo": [
           {
            "marker": {
             "colorbar": {
              "outlinewidth": 0,
              "ticks": ""
             }
            },
            "type": "scattergeo"
           }
          ],
          "scattergl": [
           {
            "marker": {
             "colorbar": {
              "outlinewidth": 0,
              "ticks": ""
             }
            },
            "type": "scattergl"
           }
          ],
          "scattermapbox": [
           {
            "marker": {
             "colorbar": {
              "outlinewidth": 0,
              "ticks": ""
             }
            },
            "type": "scattermapbox"
           }
          ],
          "scatterpolar": [
           {
            "marker": {
             "colorbar": {
              "outlinewidth": 0,
              "ticks": ""
             }
            },
            "type": "scatterpolar"
           }
          ],
          "scatterpolargl": [
           {
            "marker": {
             "colorbar": {
              "outlinewidth": 0,
              "ticks": ""
             }
            },
            "type": "scatterpolargl"
           }
          ],
          "scatterternary": [
           {
            "marker": {
             "colorbar": {
              "outlinewidth": 0,
              "ticks": ""
             }
            },
            "type": "scatterternary"
           }
          ],
          "surface": [
           {
            "colorbar": {
             "outlinewidth": 0,
             "ticks": ""
            },
            "colorscale": [
             [
              0,
              "#0d0887"
             ],
             [
              0.1111111111111111,
              "#46039f"
             ],
             [
              0.2222222222222222,
              "#7201a8"
             ],
             [
              0.3333333333333333,
              "#9c179e"
             ],
             [
              0.4444444444444444,
              "#bd3786"
             ],
             [
              0.5555555555555556,
              "#d8576b"
             ],
             [
              0.6666666666666666,
              "#ed7953"
             ],
             [
              0.7777777777777778,
              "#fb9f3a"
             ],
             [
              0.8888888888888888,
              "#fdca26"
             ],
             [
              1,
              "#f0f921"
             ]
            ],
            "type": "surface"
           }
          ],
          "table": [
           {
            "cells": {
             "fill": {
              "color": "#EBF0F8"
             },
             "line": {
              "color": "white"
             }
            },
            "header": {
             "fill": {
              "color": "#C8D4E3"
             },
             "line": {
              "color": "white"
             }
            },
            "type": "table"
           }
          ]
         },
         "layout": {
          "annotationdefaults": {
           "arrowcolor": "#2a3f5f",
           "arrowhead": 0,
           "arrowwidth": 1
          },
          "autotypenumbers": "strict",
          "coloraxis": {
           "colorbar": {
            "outlinewidth": 0,
            "ticks": ""
           }
          },
          "colorscale": {
           "diverging": [
            [
             0,
             "#8e0152"
            ],
            [
             0.1,
             "#c51b7d"
            ],
            [
             0.2,
             "#de77ae"
            ],
            [
             0.3,
             "#f1b6da"
            ],
            [
             0.4,
             "#fde0ef"
            ],
            [
             0.5,
             "#f7f7f7"
            ],
            [
             0.6,
             "#e6f5d0"
            ],
            [
             0.7,
             "#b8e186"
            ],
            [
             0.8,
             "#7fbc41"
            ],
            [
             0.9,
             "#4d9221"
            ],
            [
             1,
             "#276419"
            ]
           ],
           "sequential": [
            [
             0,
             "#0d0887"
            ],
            [
             0.1111111111111111,
             "#46039f"
            ],
            [
             0.2222222222222222,
             "#7201a8"
            ],
            [
             0.3333333333333333,
             "#9c179e"
            ],
            [
             0.4444444444444444,
             "#bd3786"
            ],
            [
             0.5555555555555556,
             "#d8576b"
            ],
            [
             0.6666666666666666,
             "#ed7953"
            ],
            [
             0.7777777777777778,
             "#fb9f3a"
            ],
            [
             0.8888888888888888,
             "#fdca26"
            ],
            [
             1,
             "#f0f921"
            ]
           ],
           "sequentialminus": [
            [
             0,
             "#0d0887"
            ],
            [
             0.1111111111111111,
             "#46039f"
            ],
            [
             0.2222222222222222,
             "#7201a8"
            ],
            [
             0.3333333333333333,
             "#9c179e"
            ],
            [
             0.4444444444444444,
             "#bd3786"
            ],
            [
             0.5555555555555556,
             "#d8576b"
            ],
            [
             0.6666666666666666,
             "#ed7953"
            ],
            [
             0.7777777777777778,
             "#fb9f3a"
            ],
            [
             0.8888888888888888,
             "#fdca26"
            ],
            [
             1,
             "#f0f921"
            ]
           ]
          },
          "colorway": [
           "#636efa",
           "#EF553B",
           "#00cc96",
           "#ab63fa",
           "#FFA15A",
           "#19d3f3",
           "#FF6692",
           "#B6E880",
           "#FF97FF",
           "#FECB52"
          ],
          "font": {
           "color": "#2a3f5f"
          },
          "geo": {
           "bgcolor": "white",
           "lakecolor": "white",
           "landcolor": "#E5ECF6",
           "showlakes": true,
           "showland": true,
           "subunitcolor": "white"
          },
          "hoverlabel": {
           "align": "left"
          },
          "hovermode": "closest",
          "mapbox": {
           "style": "light"
          },
          "paper_bgcolor": "white",
          "plot_bgcolor": "#E5ECF6",
          "polar": {
           "angularaxis": {
            "gridcolor": "white",
            "linecolor": "white",
            "ticks": ""
           },
           "bgcolor": "#E5ECF6",
           "radialaxis": {
            "gridcolor": "white",
            "linecolor": "white",
            "ticks": ""
           }
          },
          "scene": {
           "xaxis": {
            "backgroundcolor": "#E5ECF6",
            "gridcolor": "white",
            "gridwidth": 2,
            "linecolor": "white",
            "showbackground": true,
            "ticks": "",
            "zerolinecolor": "white"
           },
           "yaxis": {
            "backgroundcolor": "#E5ECF6",
            "gridcolor": "white",
            "gridwidth": 2,
            "linecolor": "white",
            "showbackground": true,
            "ticks": "",
            "zerolinecolor": "white"
           },
           "zaxis": {
            "backgroundcolor": "#E5ECF6",
            "gridcolor": "white",
            "gridwidth": 2,
            "linecolor": "white",
            "showbackground": true,
            "ticks": "",
            "zerolinecolor": "white"
           }
          },
          "shapedefaults": {
           "line": {
            "color": "#2a3f5f"
           }
          },
          "ternary": {
           "aaxis": {
            "gridcolor": "white",
            "linecolor": "white",
            "ticks": ""
           },
           "baxis": {
            "gridcolor": "white",
            "linecolor": "white",
            "ticks": ""
           },
           "bgcolor": "#E5ECF6",
           "caxis": {
            "gridcolor": "white",
            "linecolor": "white",
            "ticks": ""
           }
          },
          "title": {
           "x": 0.05
          },
          "xaxis": {
           "automargin": true,
           "gridcolor": "white",
           "linecolor": "white",
           "ticks": "",
           "title": {
            "standoff": 15
           },
           "zerolinecolor": "white",
           "zerolinewidth": 2
          },
          "yaxis": {
           "automargin": true,
           "gridcolor": "white",
           "linecolor": "white",
           "ticks": "",
           "title": {
            "standoff": 15
           },
           "zerolinecolor": "white",
           "zerolinewidth": 2
          }
         }
        },
        "xaxis": {
         "anchor": "y",
         "autorange": true,
         "domain": [
          0,
          1
         ],
         "range": [
          -131.55408859173988,
          3539.967160319858
         ],
         "title": {
          "text": "Cumulative Days"
         },
         "type": "linear"
        },
        "yaxis": {
         "anchor": "x",
         "autorange": true,
         "domain": [
          0,
          1
         ],
         "range": [
          -3.8939960425955515,
          53.53403252738332
         ],
         "title": {
          "text": "Failure Number"
         },
         "type": "linear"
        }
       }
      },
      "image/png": "[encoded data removed]",
      "text/html": [
       "<div>                            <div id=\"5cee3be3-573b-4531-8e25-02f2be1c2038\" class=\"plotly-graph-div\" style=\"height:400px; width:100%;\"></div>            <script type=\"text/javascript\">                require([\"plotly\"], function(Plotly) {                    window.PLOTLYENV=window.PLOTLYENV || {};                                    if (document.getElementById(\"5cee3be3-573b-4531-8e25-02f2be1c2038\")) {                    Plotly.newPlot(                        \"5cee3be3-573b-4531-8e25-02f2be1c2038\",                        [{\"hovertemplate\":\"Equipment/Process=Process<br>Cumulative Days=%{x}<br>Failure Number=%{y}<br>Klbs=%{marker.size}<extra></extra>\",\"legendgroup\":\"Process\",\"marker\":{\"color\":\"#636efa\",\"size\":[10956.16,11975.34,3312.33,8219.18,13972.6,1972.6,18600.0,7643.84,8301.37,50534.25,15202.74,13561.64,14608.22,12394.52,14693.15,12986.3,14947.95,44383.56,20712.33,1189.04,27178.08,7219.18],\"sizemode\":\"area\",\"sizeref\":170.07535,\"symbol\":\"circle\"},\"mode\":\"markers\",\"name\":\"Process\",\"orientation\":\"v\",\"showlegend\":true,\"x\":[74,380,804,821,835,850,926,943,988,1110,1322,1414,1444,1506,1535,1596,1688,1705,1719,1900,2084,2540],\"xaxis\":\"x\",\"y\":[1,5,11,12,13,14,17,18,21,22,23,24,25,26,27,29,31,32,33,36,39,41],\"yaxis\":\"y\",\"type\":\"scatter\"},{\"hovertemplate\":\"Equipment/Process=Equipment<br>Cumulative Days=%{x}<br>Failure Number=%{y}<br>Klbs=%{marker.size}<extra></extra>\",\"legendgroup\":\"Equipment\",\"marker\":{\"color\":\"#EF553B\",\"size\":[50958.9,14608.22,15967.12,1698.63,16731.51,20876.71,15032.88,5945.21,7134.25,9767.12,4756.16,7397.26,55460.27,53506.85,14712.33,29980.82,2369.59,68030.14,21063.01,12060.27,11380.82,4602.74,4671.23],\"sizemode\":\"area\",\"sizeref\":170.07535,\"symbol\":\"circle\"},\"mode\":\"markers\",\"name\":\"Equipment\",\"orientation\":\"v\",\"showlegend\":true,\"x\":[135,196,288,395,500,531,592,745,865,912,957,974,1657,1749,1780,1961,1992,2114,2752,2769,2783,2814,3027],\"xaxis\":\"x\",\"y\":[2,3,4,6,7,8,9,10,15,16,19,20,30,34,35,37,38,40,42,43,44,45,46],\"yaxis\":\"y\",\"type\":\"scatter\"},{\"hovertemplate\":\"Equipment/Process=Equipment (Design)<br>Cumulative Days=%{x}<br>Failure Number=%{y}<br>Klbs=%{marker.size}<extra></extra>\",\"legendgroup\":\"Equipment (Design)\",\"marker\":{\"color\":\"#00cc96\",\"size\":[11095.89],\"sizemode\":\"area\",\"sizeref\":170.07535,\"symbol\":\"circle\"},\"mode\":\"markers\",\"name\":\"Equipment (Design)\",\"orientation\":\"v\",\"showlegend\":true,\"x\":[1566],\"xaxis\":\"x\",\"y\":[28],\"yaxis\":\"y\",\"type\":\"scatter\"},{\"hovertemplate\":\"Equipment/Process=Outside<br>Cumulative Days=%{x}<br>Failure Number=%{y}<br>Klbs=%{marker.size}<extra></extra>\",\"legendgroup\":\"Outside\",\"marker\":{\"color\":\"#ab63fa\",\"size\":[3698.63],\"sizemode\":\"area\",\"sizeref\":170.07535,\"symbol\":\"circle\"},\"mode\":\"markers\",\"name\":\"Outside\",\"orientation\":\"v\",\"showlegend\":true,\"x\":[3057],\"xaxis\":\"x\",\"y\":[47],\"yaxis\":\"y\",\"type\":\"scatter\"},{\"hovertemplate\":\"Equipment/Process=None<br>Cumulative Days=%{x}<br>Failure Number=%{y}<br>Klbs=%{marker.size}<extra></extra>\",\"legendgroup\":\"None\",\"marker\":{\"color\":\"#FFA15A\",\"size\":[7813.7,0.0,0.0],\"sizemode\":\"area\",\"sizeref\":170.07535,\"symbol\":\"circle\"},\"mode\":\"markers\",\"name\":\"None\",\"orientation\":\"v\",\"showlegend\":true,\"x\":[3302,3333,3346],\"xaxis\":\"x\",\"y\":[48,49,50],\"yaxis\":\"y\",\"type\":\"scatter\"}],                        {\"template\":{\"data\":{\"bar\":[{\"error_x\":{\"color\":\"#2a3f5f\"},\"error_y\":{\"color\":\"#2a3f5f\"},\"marker\":{\"line\":{\"color\":\"#E5ECF6\",\"width\":0.5},\"pattern\":{\"fillmode\":\"overlay\",\"size\":10,\"solidity\":0.2}},\"type\":\"bar\"}],\"barpolar\":[{\"marker\":{\"line\":{\"color\":\"#E5ECF6\",\"width\":0.5},\"pattern\":{\"fillmode\":\"overlay\",\"size\":10,\"solidity\":0.2}},\"type\":\"barpolar\"}],\"carpet\":[{\"aaxis\":{\"endlinecolor\":\"#2a3f5f\",\"gridcolor\":\"white\",\"linecolor\":\"white\",\"minorgridcolor\":\"white\",\"startlinecolor\":\"#2a3f5f\"},\"baxis\":{\"endlinecolor\":\"#2a3f5f\",\"gridcolor\":\"white\",\"linecolor\":\"white\",\"minorgridcolor\":\"white\",\"startlinecolor\":\"#2a3f5f\"},\"type\":\"carpet\"}],\"choropleth\":[{\"colorbar\":{\"outlinewidth\":0,\"ticks\":\"\"},\"type\":\"choropleth\"}],\"contour\":[{\"colorbar\":{\"outlinewidth\":0,\"ticks\":\"\"},\"colorscale\":[[0.0,\"#0d0887\"],[0.1111111111111111,\"#46039f\"],[0.2222222222222222,\"#7201a8\"],[0.3333333333333333,\"#9c179e\"],[0.4444444444444444,\"#bd3786\"],[0.5555555555555556,\"#d8576b\"],[0.6666666666666666,\"#ed7953\"],[0.7777777777777778,\"#fb9f3a\"],[0.8888888888888888,\"#fdca26\"],[1.0,\"#f0f921\"]],\"type\":\"contour\"}],\"contourcarpet\":[{\"colorbar\":{\"outlinewidth\":0,\"ticks\":\"\"},\"type\":\"contourcarpet\"}],\"heatmap\":[{\"colorbar\":{\"outlinewidth\":0,\"ticks\":\"\"},\"colorscale\":[[0.0,\"#0d0887\"],[0.1111111111111111,\"#46039f\"],[0.2222222222222222,\"#7201a8\"],[0.3333333333333333,\"#9c179e\"],[0.4444444444444444,\"#bd3786\"],[0.5555555555555556,\"#d8576b\"],[0.6666666666666666,\"#ed7953\"],[0.7777777777777778,\"#fb9f3a\"],[0.8888888888888888,\"#fdca26\"],[1.0,\"#f0f921\"]],\"type\":\"heatmap\"}],\"heatmapgl\":[{\"colorbar\":{\"outlinewidth\":0,\"ticks\":\"\"},\"colorscale\":[[0.0,\"#0d0887\"],[0.1111111111111111,\"#46039f\"],[0.2222222222222222,\"#7201a8\"],[0.3333333333333333,\"#9c179e\"],[0.4444444444444444,\"#bd3786\"],[0.5555555555555556,\"#d8576b\"],[0.6666666666666666,\"#ed7953\"],[0.7777777777777778,\"#fb9f3a\"],[0.8888888888888888,\"#fdca26\"],[1.0,\"#f0f921\"]],\"type\":\"heatmapgl\"}],\"histogram\":[{\"marker\":{\"pattern\":{\"fillmode\":\"overlay\",\"size\":10,\"solidity\":0.2}},\"type\":\"histogram\"}],\"histogram2d\":[{\"colorbar\":{\"outlinewidth\":0,\"ticks\":\"\"},\"colorscale\":[[0.0,\"#0d0887\"],[0.1111111111111111,\"#46039f\"],[0.2222222222222222,\"#7201a8\"],[0.3333333333333333,\"#9c179e\"],[0.4444444444444444,\"#bd3786\"],[0.5555555555555556,\"#d8576b\"],[0.6666666666666666,\"#ed7953\"],[0.7777777777777778,\"#fb9f3a\"],[0.8888888888888888,\"#fdca26\"],[1.0,\"#f0f921\"]],\"type\":\"histogram2d\"}],\"histogram2dcontour\":[{\"colorbar\":{\"outlinewidth\":0,\"ticks\":\"\"},\"colorscale\":[[0.0,\"#0d0887\"],[0.1111111111111111,\"#46039f\"],[0.2222222222222222,\"#7201a8\"],[0.3333333333333333,\"#9c179e\"],[0.4444444444444444,\"#bd3786\"],[0.5555555555555556,\"#d8576b\"],[0.6666666666666666,\"#ed7953\"],[0.7777777777777778,\"#fb9f3a\"],[0.8888888888888888,\"#fdca26\"],[1.0,\"#f0f921\"]],\"type\":\"histogram2dcontour\"}],\"mesh3d\":[{\"colorbar\":{\"outlinewidth\":0,\"ticks\":\"\"},\"type\":\"mesh3d\"}],\"parcoords\":[{\"line\":{\"colorbar\":{\"outlinewidth\":0,\"ticks\":\"\"}},\"type\":\"parcoords\"}],\"pie\":[{\"automargin\":true,\"type\":\"pie\"}],\"scatter\":[{\"marker\":{\"colorbar\":{\"outlinewidth\":0,\"ticks\":\"\"}},\"type\":\"scatter\"}],\"scatter3d\":[{\"line\":{\"colorbar\":{\"outlinewidth\":0,\"ticks\":\"\"}},\"marker\":{\"colorbar\":{\"outlinewidth\":0,\"ticks\":\"\"}},\"type\":\"scatter3d\"}],\"scattercarpet\":[{\"marker\":{\"colorbar\":{\"outlinewidth\":0,\"ticks\":\"\"}},\"type\":\"scattercarpet\"}],\"scattergeo\":[{\"marker\":{\"colorbar\":{\"outlinewidth\":0,\"ticks\":\"\"}},\"type\":\"scattergeo\"}],\"scattergl\":[{\"marker\":{\"colorbar\":{\"outlinewidth\":0,\"ticks\":\"\"}},\"type\":\"scattergl\"}],\"scattermapbox\":[{\"marker\":{\"colorbar\":{\"outlinewidth\":0,\"ticks\":\"\"}},\"type\":\"scattermapbox\"}],\"scatterpolar\":[{\"marker\":{\"colorbar\":{\"outlinewidth\":0,\"ticks\":\"\"}},\"type\":\"scatterpolar\"}],\"scatterpolargl\":[{\"marker\":{\"colorbar\":{\"outlinewidth\":0,\"ticks\":\"\"}},\"type\":\"scatterpolargl\"}],\"scatterternary\":[{\"marker\":{\"colorbar\":{\"outlinewidth\":0,\"ticks\":\"\"}},\"type\":\"scatterternary\"}],\"surface\":[{\"colorbar\":{\"outlinewidth\":0,\"ticks\":\"\"},\"colorscale\":[[0.0,\"#0d0887\"],[0.1111111111111111,\"#46039f\"],[0.2222222222222222,\"#7201a8\"],[0.3333333333333333,\"#9c179e\"],[0.4444444444444444,\"#bd3786\"],[0.5555555555555556,\"#d8576b\"],[0.6666666666666666,\"#ed7953\"],[0.7777777777777778,\"#fb9f3a\"],[0.8888888888888888,\"#fdca26\"],[1.0,\"#f0f921\"]],\"type\":\"surface\"}],\"table\":[{\"cells\":{\"fill\":{\"color\":\"#EBF0F8\"},\"line\":{\"color\":\"white\"}},\"header\":{\"fill\":{\"color\":\"#C8D4E3\"},\"line\":{\"color\":\"white\"}},\"type\":\"table\"}]},\"layout\":{\"annotationdefaults\":{\"arrowcolor\":\"#2a3f5f\",\"arrowhead\":0,\"arrowwidth\":1},\"autotypenumbers\":\"strict\",\"coloraxis\":{\"colorbar\":{\"outlinewidth\":0,\"ticks\":\"\"}},\"colorscale\":{\"diverging\":[[0,\"#8e0152\"],[0.1,\"#c51b7d\"],[0.2,\"#de77ae\"],[0.3,\"#f1b6da\"],[0.4,\"#fde0ef\"],[0.5,\"#f7f7f7\"],[0.6,\"#e6f5d0\"],[0.7,\"#b8e186\"],[0.8,\"#7fbc41\"],[0.9,\"#4d9221\"],[1,\"#276419\"]],\"sequential\":[[0.0,\"#0d0887\"],[0.1111111111111111,\"#46039f\"],[0.2222222222222222,\"#7201a8\"],[0.3333333333333333,\"#9c179e\"],[0.4444444444444444,\"#bd3786\"],[0.5555555555555556,\"#d8576b\"],[0.6666666666666666,\"#ed7953\"],[0.7777777777777778,\"#fb9f3a\"],[0.8888888888888888,\"#fdca26\"],[1.0,\"#f0f921\"]],\"sequentialminus\":[[0.0,\"#0d0887\"],[0.1111111111111111,\"#46039f\"],[0.2222222222222222,\"#7201a8\"],[0.3333333333333333,\"#9c179e\"],[0.4444444444444444,\"#bd3786\"],[0.5555555555555556,\"#d8576b\"],[0.6666666666666666,\"#ed7953\"],[0.7777777777777778,\"#fb9f3a\"],[0.8888888888888888,\"#fdca26\"],[1.0,\"#f0f921\"]]},\"colorway\":[\"#636efa\",\"#EF553B\",\"#00cc96\",\"#ab63fa\",\"#FFA15A\",\"#19d3f3\",\"#FF6692\",\"#B6E880\",\"#FF97FF\",\"#FECB52\"],\"font\":{\"color\":\"#2a3f5f\"},\"geo\":{\"bgcolor\":\"white\",\"lakecolor\":\"white\",\"landcolor\":\"#E5ECF6\",\"showlakes\":true,\"showland\":true,\"subunitcolor\":\"white\"},\"hoverlabel\":{\"align\":\"left\"},\"hovermode\":\"closest\",\"mapbox\":{\"style\":\"light\"},\"paper_bgcolor\":\"white\",\"plot_bgcolor\":\"#E5ECF6\",\"polar\":{\"angularaxis\":{\"gridcolor\":\"white\",\"linecolor\":\"white\",\"ticks\":\"\"},\"bgcolor\":\"#E5ECF6\",\"radialaxis\":{\"gridcolor\":\"white\",\"linecolor\":\"white\",\"ticks\":\"\"}},\"scene\":{\"xaxis\":{\"backgroundcolor\":\"#E5ECF6\",\"gridcolor\":\"white\",\"gridwidth\":2,\"linecolor\":\"white\",\"showbackground\":true,\"ticks\":\"\",\"zerolinecolor\":\"white\"},\"yaxis\":{\"backgroundcolor\":\"#E5ECF6\",\"gridcolor\":\"white\",\"gridwidth\":2,\"linecolor\":\"white\",\"showbackground\":true,\"ticks\":\"\",\"zerolinecolor\":\"white\"},\"zaxis\":{\"backgroundcolor\":\"#E5ECF6\",\"gridcolor\":\"white\",\"gridwidth\":2,\"linecolor\":\"white\",\"showbackground\":true,\"ticks\":\"\",\"zerolinecolor\":\"white\"}},\"shapedefaults\":{\"line\":{\"color\":\"#2a3f5f\"}},\"ternary\":{\"aaxis\":{\"gridcolor\":\"white\",\"linecolor\":\"white\",\"ticks\":\"\"},\"baxis\":{\"gridcolor\":\"white\",\"linecolor\":\"white\",\"ticks\":\"\"},\"bgcolor\":\"#E5ECF6\",\"caxis\":{\"gridcolor\":\"white\",\"linecolor\":\"white\",\"ticks\":\"\"}},\"title\":{\"x\":0.05},\"xaxis\":{\"automargin\":true,\"gridcolor\":\"white\",\"linecolor\":\"white\",\"ticks\":\"\",\"title\":{\"standoff\":15},\"zerolinecolor\":\"white\",\"zerolinewidth\":2},\"yaxis\":{\"automargin\":true,\"gridcolor\":\"white\",\"linecolor\":\"white\",\"ticks\":\"\",\"title\":{\"standoff\":15},\"zerolinecolor\":\"white\",\"zerolinewidth\":2}}},\"xaxis\":{\"anchor\":\"y\",\"domain\":[0.0,1.0],\"title\":{\"text\":\"Cumulative Days\"}},\"yaxis\":{\"anchor\":\"x\",\"domain\":[0.0,1.0],\"title\":{\"text\":\"Failure Number\"}},\"legend\":{\"title\":{\"text\":\"Equipment/Process\"},\"tracegroupgap\":0,\"itemsizing\":\"constant\"},\"margin\":{\"t\":60},\"height\":400},                        {\"responsive\": true}                    ).then(function(){\n",
       "                            \n",
       "var gd = document.getElementById('5cee3be3-573b-4531-8e25-02f2be1c2038');\n",
       "var x = new MutationObserver(function (mutations, observer) {{\n",
       "        var display = window.getComputedStyle(gd).display;\n",
       "        if (!display || display === 'none') {{\n",
       "            console.log([gd, 'removed!']);\n",
       "            Plotly.purge(gd);\n",
       "            observer.disconnect();\n",
       "        }}\n",
       "}});\n",
       "\n",
       "// Listen for the removal of the full notebook cells\n",
       "var notebookContainer = gd.closest('#notebook-container');\n",
       "if (notebookContainer) {{\n",
       "    x.observe(notebookContainer, {childList: true});\n",
       "}}\n",
       "\n",
       "// Listen for the clearing of the current output cell\n",
       "var outputEl = gd.closest('.output');\n",
       "if (outputEl) {{\n",
       "    x.observe(outputEl, {childList: true});\n",
       "}}\n",
       "\n",
       "                        })                };                });            </script>        </div>"
      ]
     },
     "metadata": {},
     "output_type": "display_data"
    }
   ],
   "source": [
    "plots[1]"
   ]
  },
  {
   "cell_type": "code",
   "execution_count": null,
   "id": "6a0f8504-070e-45b6-8abd-ffb0c11cb003",
   "metadata": {},
   "outputs": [],
   "source": []
  }
 ],
 "metadata": {
  "kernelspec": {
   "display_name": "Python 3 (ipykernel)",
   "language": "python",
   "name": "python3"
  },
  "language_info": {
   "codemirror_mode": {
    "name": "ipython",
    "version": 3
   },
   "file_extension": ".py",
   "mimetype": "text/x-python",
   "name": "python",
   "nbconvert_exporter": "python",
   "pygments_lexer": "ipython3",
   "version": "3.8.12"
  }
 },
 "nbformat": 4,
 "nbformat_minor": 5
}
